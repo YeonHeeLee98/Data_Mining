{
 "cells": [
  {
   "cell_type": "markdown",
   "metadata": {},
   "source": [
    "## 온라인 학습활동 과제 4. 쥬피터노트북, 마크다운, 파이썬 프로그램 연습"
   ]
  },
  {
   "cell_type": "markdown",
   "metadata": {},
   "source": [
    "\n",
    "## <문제> \n",
    "## 10명의 키와 몸무게를 리스트에 저장하여 BMI(Body Mass Index) 체질량지수를 계산하고 비만여부를 측정하는 파이썬 프로그램을 쥬피터 노트북 환경에서 작성하여 *.ipynb 파일 제출"
   ]
  },
  {
   "cell_type": "markdown",
   "metadata": {},
   "source": [
    "### 빅데이터전공 20175327 이연희"
   ]
  },
  {
   "cell_type": "markdown",
   "metadata": {},
   "source": [
    "### Ordered Lists\n",
    "1. 10명의 키와 몸무게를 리스트에 저장\n",
    "2. 키와 몸무게의 최댓값, 평균을 계산하는 함수 정의\n",
    "3. 체질량 지수를 계산하고 비만 여부를 측정"
   ]
  },
  {
   "cell_type": "markdown",
   "metadata": {},
   "source": [
    "### 1. 10명의 키와 몸무게를 리스트에 저장"
   ]
  },
  {
   "cell_type": "code",
   "execution_count": 1,
   "metadata": {},
   "outputs": [],
   "source": [
    "list_h=[1.70, 1.80, 1.55, 1.43, 1.54, 1.65, 1.83, 1.50, 1.75, 1.67]\n",
    "list_w=[81, 73, 55, 46, 51, 60, 91, 45, 68, 55]"
   ]
  },
  {
   "cell_type": "markdown",
   "metadata": {},
   "source": [
    "### 2. 키와 몸무게의 최대값, 평균을 계산하는 함수 정의"
   ]
  },
  {
   "cell_type": "markdown",
   "metadata": {},
   "source": [
    "* 최대값을 계산하는 함수 정의"
   ]
  },
  {
   "cell_type": "code",
   "execution_count": 48,
   "metadata": {},
   "outputs": [
    {
     "name": "stdout",
     "output_type": "stream",
     "text": [
      "키 max  = 1.83\n",
      "몸무게 max = 1.83\n"
     ]
    }
   ],
   "source": [
    "def Max(a):\n",
    "    max=a[0]\n",
    "    n=len(a)\n",
    "    for i in range(n):\n",
    "        if max <a[i]:\n",
    "            max=a[i]\n",
    "    return max\n",
    "\n",
    "print(\"키 max  = {:.02f}\".format(Max(list_h)))\n",
    "print(\"몸무게 max = {:.02f}\".format(Max(list_h)))"
   ]
  },
  {
   "cell_type": "markdown",
   "metadata": {},
   "source": [
    "* 평균을 계산하는 함수 정의"
   ]
  },
  {
   "cell_type": "code",
   "execution_count": 49,
   "metadata": {},
   "outputs": [
    {
     "name": "stdout",
     "output_type": "stream",
     "text": [
      "키 average  = 1.64\n",
      "몸무게 average  = 62.50\n"
     ]
    }
   ],
   "source": [
    "def Avg(a):\n",
    "    n=len(a)\n",
    "    sum=0\n",
    "    avg=0\n",
    "    for i in a:\n",
    "        sum += i\n",
    "    avg=sum/n\n",
    "    return avg\n",
    "\n",
    "print(\"키 average  = {:.02f}\".format(Avg(list_h)))\n",
    "print(\"몸무게 average  = {:.02f}\".format(Avg(list_w)))"
   ]
  },
  {
   "cell_type": "markdown",
   "metadata": {},
   "source": [
    "### 3. 체질량 지수를 계산하고 비만 여부를 측정"
   ]
  },
  {
   "cell_type": "code",
   "execution_count": 56,
   "metadata": {},
   "outputs": [
    {
     "name": "stdout",
     "output_type": "stream",
     "text": [
      "키 = [1.7, 1.8, 1.55, 1.43, 1.54, 1.65, 1.83, 1.5, 1.75, 1.67]\n",
      "max = 1.83 average = 1.64\n",
      "\n",
      "몸무게 = [81, 73, 55, 46, 51, 60, 91, 45, 68, 55]\n",
      "max = 91.00 average = 62.50\n",
      "\n",
      "BMI = [28, 22, 22, 22, 21, 22, 27, 20, 22, 19]\n",
      "결과 = ['과체중', '표준', '표준', '표준', '표준', '표준', '과체중', '표준', '표준', '표준']\n"
     ]
    }
   ],
   "source": [
    "import math\n",
    "\n",
    "max_h=Max(list_h)\n",
    "max_w=Max(list_w)\n",
    "\n",
    "avg_h=Avg(list_h)\n",
    "avg_w=Avg(list_w)\n",
    "\n",
    "print(\"키 =\",list_h)\n",
    "print(\"max = {:.02f} average = {:.02f}\".format(max_h,avg_h))\n",
    "print(\"\\n몸무게 =\",list_w)\n",
    "print(\"max = {:.02f} average = {:.02f}\".format(max_w,avg_w))\n",
    "\n",
    "\n",
    "BMI_print=[] \n",
    "Cal=[]\n",
    "\n",
    "def Cal_BMI(list_h,list_w1):\n",
    "    if len(list_h)==len(list_w):\n",
    "        for i in range(len(list_h)):\n",
    "            Cal.append(list_w[i]/list_h[i]**2)\n",
    "        return Cal\n",
    "    else:\n",
    "        print(\"Error\")     \n",
    "    \n",
    "BMI=Cal_BMI(list_h,list_w)\n",
    "for i in range(len(BMI)):\n",
    "    BMI[i]=math.floor(BMI[i])\n",
    "     \n",
    "for i in BMI:\n",
    "    if i < 25.0:\n",
    "        BMI_print.append(\"표준\")\n",
    "    elif 25.0 <= i < 30.0:\n",
    "        BMI_print.append(\"과체중\")\n",
    "    else:\n",
    "        BMI_print.append(\"비만\")\n",
    "\n",
    "print(\"\\nBMI =\",BMI)\n",
    "print(\"결과 =\",BMI_print)"
   ]
  },
  {
   "cell_type": "code",
   "execution_count": null,
   "metadata": {},
   "outputs": [],
   "source": []
  }
 ],
 "metadata": {
  "kernelspec": {
   "display_name": "Python 3",
   "language": "python",
   "name": "python3"
  },
  "language_info": {
   "codemirror_mode": {
    "name": "ipython",
    "version": 3
   },
   "file_extension": ".py",
   "mimetype": "text/x-python",
   "name": "python",
   "nbconvert_exporter": "python",
   "pygments_lexer": "ipython3",
   "version": "3.7.3"
  }
 },
 "nbformat": 4,
 "nbformat_minor": 2
}
