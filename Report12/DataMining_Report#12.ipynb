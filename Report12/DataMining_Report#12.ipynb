{
 "cells": [
  {
   "cell_type": "markdown",
   "metadata": {},
   "source": [
    "## 온라인 학습활동 과제 12. scikitlearn"
   ]
  },
  {
   "cell_type": "markdown",
   "metadata": {},
   "source": [
    "### 빅데이터전공 20175327 이연희"
   ]
  },
  {
   "cell_type": "markdown",
   "metadata": {},
   "source": [
    "### 1) 각 예제의 데이터를 설명하세요(X, y 설명포함)"
   ]
  },
  {
   "cell_type": "markdown",
   "metadata": {},
   "source": [
    "(1) Supervised learning example: Simple linear regression\n",
    "- 입력(input, x) :  2차원 feature를 가진 행렬의 형태\n",
    "- 출력(output, y) : 1차원 target 벡터의 형태\n",
    "    \n",
    "- 50개의 랜덤 값을 생성하여 데이터로 사용\n",
    "- nx: linspace를 통해 -1~11까지의 데이터\n",
    "- nX: nx 데이터에 차원 추가\n",
    "- ny: nX 데이터를 통해 모델이 예측한 결과값"
   ]
  },
  {
   "cell_type": "markdown",
   "metadata": {},
   "source": [
    "(2) Supervised learning example: Iris classification\n",
    "- features : 4  \n",
    "\n",
    "\n",
    "- class : setosa, versicolor, virginica \n",
    "    - 입력(input, x) : iris 데이터의 data \n",
    "       -  'data' → features ('sepal length', 'sepal width', 'petal length', 'petal width')  \n",
    "       \n",
    "    - 출력(output, y) : iris 데이터의 target\n",
    "       - 'target' → 3개의 품종 ('setosa', 'versicolor', 'virginica')  \n",
    "       \n",
    "       \n",
    "- Xtrain, ytrain : 학습 데이터 셋  \n",
    "\n",
    "\n",
    "- Xtest, ytest : 테스트 데이터 셋  \n",
    "\n",
    "\n",
    "- iris 데이터를 분석한 후 데이터에 대한 모델을 평가하기 위해 학습, 테스트 데이터 셋으로 분리한다. GaussianNB 알고리즘을 이용해 학습데이터를 모델링한 뒤 데스트데이터로 예측 결과에 대한 성능을 확인한다. \n"
   ]
  },
  {
   "cell_type": "markdown",
   "metadata": {},
   "source": [
    "(3) Unsupervised learning example: Iris dimensionality\n",
    "- irisX : iris 입력데이터\n",
    "- X_2D : irisX 입력 데이터를 차원축소 모델을 이용하여 2차원 데이터로 변환\n",
    "- PCA1,PCA2 : X_2D 데이터프레임에 변환값 추가\n",
    "\n"
   ]
  },
  {
   "cell_type": "markdown",
   "metadata": {},
   "source": [
    "(4) Unsupervised learning: clustering\n",
    "- X : make_blobs 함수를 통해 생성한 가상 데이터\n",
    "- y : 라벨(label)"
   ]
  },
  {
   "cell_type": "markdown",
   "metadata": {},
   "source": [
    "### 2) 각 예제에서 모델링을 위해 사용된 머신러닝 알고리즘명을 쓰세요"
   ]
  },
  {
   "cell_type": "markdown",
   "metadata": {},
   "source": [
    "- (1) Supervised learning example: Simple linear regression\n",
    "    - linear regression\n",
    "        - 종속 변수 y 와 한 개 이상의 독립 변수 x와의 선형 상관 관계를 모델링하는 회귀분석 알고리즘  \n",
    "    \n",
    "    \n",
    "- (2) Supervised learning example: Iris classification\n",
    "    - Gaussian naive Bayes\n",
    "        - 특성들 사이의 독립을 가정하는 베이즈 정리를 적용한 확률 분류기의 일종인 알고리즘  \n",
    "    \n",
    "    \n",
    "- (3) Unsupervised learning example: Iris dimensionality\n",
    "    - PCA\n",
    "        - 여러 데이터들이 모여 하나의 분포를 이룰 때 주 성분을 분석해 주는 알고리즘  \n",
    "    \n",
    "    \n",
    "- (4) Unsupervised learning: clustering\n",
    "    - k-Means\n",
    "        - 주어진 데이터를 k개의 클러스터로 묶는 알고리즘"
   ]
  },
  {
   "cell_type": "markdown",
   "metadata": {},
   "source": [
    "### 3) Supervised learning의 학습데이터와 테스트데이터를 나누는 이유를 쓰세요."
   ]
  },
  {
   "cell_type": "markdown",
   "metadata": {},
   "source": [
    "- Supervised learning에서 학습데이터와 테스트데이터를 나누는 이유는 다음과 같다.  \n",
    "- 특정 모델을 학습시키기 위해서는 학습데이터가 필요하다. 하지만 학습데이터로 학습을 끝냈다고 모델이 완성된 것은 아니다. 다른 데이터를 활용해서 이 학습 모델이 제대로 동작하는지에 대한 테스트 과정이 필요하다. \n",
    "- 이때 필요한 데이터가 테스트데이터이다. 학습데이터로 모델의 학습이 완료되면 모델이 한번도 학습해보지 않은 데이터인 테스트데이터로 모델의 성능을 평가한다. 그리고 실제 값과 비교하여 최종적으로 모델의 성능을 평가할 수 있다.\n",
    "- 즉, 모델 성능 평가를 위해 학습데이터와 테스트데이터를 나눈다고 볼 수 있다."
   ]
  },
  {
   "cell_type": "markdown",
   "metadata": {},
   "source": [
    "### 4) Supervised learning의 새로운 데이터에 대한 예측을 위해 사용된 함수는?"
   ]
  },
  {
   "cell_type": "markdown",
   "metadata": {},
   "source": [
    "- pridict() 함수를 이용한다.\n",
    "    - (1) model.predict(nX)\n",
    "    - (2) model.predict(Xtest)\n"
   ]
  },
  {
   "cell_type": "code",
   "execution_count": null,
   "metadata": {},
   "outputs": [],
   "source": []
  }
 ],
 "metadata": {
  "kernelspec": {
   "display_name": "Python 3",
   "language": "python",
   "name": "python3"
  },
  "language_info": {
   "codemirror_mode": {
    "name": "ipython",
    "version": 3
   },
   "file_extension": ".py",
   "mimetype": "text/x-python",
   "name": "python",
   "nbconvert_exporter": "python",
   "pygments_lexer": "ipython3",
   "version": "3.7.3"
  }
 },
 "nbformat": 4,
 "nbformat_minor": 2
}
