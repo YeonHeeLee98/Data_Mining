{
 "cells": [
  {
   "cell_type": "markdown",
   "metadata": {},
   "source": [
    "## 온라인 학습활동 과제 15 ( Linear Regression 응용)"
   ]
  },
  {
   "cell_type": "markdown",
   "metadata": {},
   "source": [
    "### 20175327 이연희"
   ]
  },
  {
   "cell_type": "markdown",
   "metadata": {},
   "source": [
    "- 데이터 셋  \n",
    "\n",
    "    - https://www.kaggle.com/farhanmd29/50-startups  \n",
    "    \n",
    "    \n",
    "- Kernels\n",
    "    - https://www.kaggle.com/martandsay/50-startups-multi-regression-visualization"
   ]
  },
  {
   "cell_type": "code",
   "execution_count": 1,
   "metadata": {},
   "outputs": [],
   "source": [
    "import pandas as pd             \n",
    "import numpy as np               \n",
    "import matplotlib.pyplot as plt  \n",
    "%matplotlib inline \n",
    "import seaborn as sns            \n",
    "import warnings             \n",
    "warnings.filterwarnings('ignore')"
   ]
  },
  {
   "cell_type": "markdown",
   "metadata": {},
   "source": [
    "### 데이터 분석"
   ]
  },
  {
   "cell_type": "code",
   "execution_count": 2,
   "metadata": {},
   "outputs": [
    {
     "data": {
      "text/plain": [
       "(205, 26)"
      ]
     },
     "metadata": {},
     "output_type": "display_data"
    },
    {
     "data": {
      "text/html": [
       "<div>\n",
       "<style scoped>\n",
       "    .dataframe tbody tr th:only-of-type {\n",
       "        vertical-align: middle;\n",
       "    }\n",
       "\n",
       "    .dataframe tbody tr th {\n",
       "        vertical-align: top;\n",
       "    }\n",
       "\n",
       "    .dataframe thead th {\n",
       "        text-align: right;\n",
       "    }\n",
       "</style>\n",
       "<table border=\"1\" class=\"dataframe\">\n",
       "  <thead>\n",
       "    <tr style=\"text-align: right;\">\n",
       "      <th></th>\n",
       "      <th>car_ID</th>\n",
       "      <th>symboling</th>\n",
       "      <th>wheelbase</th>\n",
       "      <th>carlength</th>\n",
       "      <th>carwidth</th>\n",
       "      <th>carheight</th>\n",
       "      <th>curbweight</th>\n",
       "      <th>enginesize</th>\n",
       "      <th>boreratio</th>\n",
       "      <th>stroke</th>\n",
       "      <th>compressionratio</th>\n",
       "      <th>horsepower</th>\n",
       "      <th>peakrpm</th>\n",
       "      <th>citympg</th>\n",
       "      <th>highwaympg</th>\n",
       "      <th>price</th>\n",
       "    </tr>\n",
       "  </thead>\n",
       "  <tbody>\n",
       "    <tr>\n",
       "      <th>count</th>\n",
       "      <td>205.000000</td>\n",
       "      <td>205.000000</td>\n",
       "      <td>205.000000</td>\n",
       "      <td>205.000000</td>\n",
       "      <td>205.000000</td>\n",
       "      <td>205.000000</td>\n",
       "      <td>205.000000</td>\n",
       "      <td>205.000000</td>\n",
       "      <td>205.000000</td>\n",
       "      <td>205.000000</td>\n",
       "      <td>205.000000</td>\n",
       "      <td>205.000000</td>\n",
       "      <td>205.000000</td>\n",
       "      <td>205.000000</td>\n",
       "      <td>205.000000</td>\n",
       "      <td>205.000000</td>\n",
       "    </tr>\n",
       "    <tr>\n",
       "      <th>mean</th>\n",
       "      <td>103.000000</td>\n",
       "      <td>0.834146</td>\n",
       "      <td>98.756585</td>\n",
       "      <td>174.049268</td>\n",
       "      <td>65.907805</td>\n",
       "      <td>53.724878</td>\n",
       "      <td>2555.565854</td>\n",
       "      <td>126.907317</td>\n",
       "      <td>3.329756</td>\n",
       "      <td>3.255415</td>\n",
       "      <td>10.142537</td>\n",
       "      <td>104.117073</td>\n",
       "      <td>5125.121951</td>\n",
       "      <td>25.219512</td>\n",
       "      <td>30.751220</td>\n",
       "      <td>13276.710571</td>\n",
       "    </tr>\n",
       "    <tr>\n",
       "      <th>std</th>\n",
       "      <td>59.322565</td>\n",
       "      <td>1.245307</td>\n",
       "      <td>6.021776</td>\n",
       "      <td>12.337289</td>\n",
       "      <td>2.145204</td>\n",
       "      <td>2.443522</td>\n",
       "      <td>520.680204</td>\n",
       "      <td>41.642693</td>\n",
       "      <td>0.270844</td>\n",
       "      <td>0.313597</td>\n",
       "      <td>3.972040</td>\n",
       "      <td>39.544167</td>\n",
       "      <td>476.985643</td>\n",
       "      <td>6.542142</td>\n",
       "      <td>6.886443</td>\n",
       "      <td>7988.852332</td>\n",
       "    </tr>\n",
       "    <tr>\n",
       "      <th>min</th>\n",
       "      <td>1.000000</td>\n",
       "      <td>-2.000000</td>\n",
       "      <td>86.600000</td>\n",
       "      <td>141.100000</td>\n",
       "      <td>60.300000</td>\n",
       "      <td>47.800000</td>\n",
       "      <td>1488.000000</td>\n",
       "      <td>61.000000</td>\n",
       "      <td>2.540000</td>\n",
       "      <td>2.070000</td>\n",
       "      <td>7.000000</td>\n",
       "      <td>48.000000</td>\n",
       "      <td>4150.000000</td>\n",
       "      <td>13.000000</td>\n",
       "      <td>16.000000</td>\n",
       "      <td>5118.000000</td>\n",
       "    </tr>\n",
       "    <tr>\n",
       "      <th>25%</th>\n",
       "      <td>52.000000</td>\n",
       "      <td>0.000000</td>\n",
       "      <td>94.500000</td>\n",
       "      <td>166.300000</td>\n",
       "      <td>64.100000</td>\n",
       "      <td>52.000000</td>\n",
       "      <td>2145.000000</td>\n",
       "      <td>97.000000</td>\n",
       "      <td>3.150000</td>\n",
       "      <td>3.110000</td>\n",
       "      <td>8.600000</td>\n",
       "      <td>70.000000</td>\n",
       "      <td>4800.000000</td>\n",
       "      <td>19.000000</td>\n",
       "      <td>25.000000</td>\n",
       "      <td>7788.000000</td>\n",
       "    </tr>\n",
       "    <tr>\n",
       "      <th>50%</th>\n",
       "      <td>103.000000</td>\n",
       "      <td>1.000000</td>\n",
       "      <td>97.000000</td>\n",
       "      <td>173.200000</td>\n",
       "      <td>65.500000</td>\n",
       "      <td>54.100000</td>\n",
       "      <td>2414.000000</td>\n",
       "      <td>120.000000</td>\n",
       "      <td>3.310000</td>\n",
       "      <td>3.290000</td>\n",
       "      <td>9.000000</td>\n",
       "      <td>95.000000</td>\n",
       "      <td>5200.000000</td>\n",
       "      <td>24.000000</td>\n",
       "      <td>30.000000</td>\n",
       "      <td>10295.000000</td>\n",
       "    </tr>\n",
       "    <tr>\n",
       "      <th>75%</th>\n",
       "      <td>154.000000</td>\n",
       "      <td>2.000000</td>\n",
       "      <td>102.400000</td>\n",
       "      <td>183.100000</td>\n",
       "      <td>66.900000</td>\n",
       "      <td>55.500000</td>\n",
       "      <td>2935.000000</td>\n",
       "      <td>141.000000</td>\n",
       "      <td>3.580000</td>\n",
       "      <td>3.410000</td>\n",
       "      <td>9.400000</td>\n",
       "      <td>116.000000</td>\n",
       "      <td>5500.000000</td>\n",
       "      <td>30.000000</td>\n",
       "      <td>34.000000</td>\n",
       "      <td>16503.000000</td>\n",
       "    </tr>\n",
       "    <tr>\n",
       "      <th>max</th>\n",
       "      <td>205.000000</td>\n",
       "      <td>3.000000</td>\n",
       "      <td>120.900000</td>\n",
       "      <td>208.100000</td>\n",
       "      <td>72.300000</td>\n",
       "      <td>59.800000</td>\n",
       "      <td>4066.000000</td>\n",
       "      <td>326.000000</td>\n",
       "      <td>3.940000</td>\n",
       "      <td>4.170000</td>\n",
       "      <td>23.000000</td>\n",
       "      <td>288.000000</td>\n",
       "      <td>6600.000000</td>\n",
       "      <td>49.000000</td>\n",
       "      <td>54.000000</td>\n",
       "      <td>45400.000000</td>\n",
       "    </tr>\n",
       "  </tbody>\n",
       "</table>\n",
       "</div>"
      ],
      "text/plain": [
       "           car_ID   symboling   wheelbase   carlength    carwidth   carheight  \\\n",
       "count  205.000000  205.000000  205.000000  205.000000  205.000000  205.000000   \n",
       "mean   103.000000    0.834146   98.756585  174.049268   65.907805   53.724878   \n",
       "std     59.322565    1.245307    6.021776   12.337289    2.145204    2.443522   \n",
       "min      1.000000   -2.000000   86.600000  141.100000   60.300000   47.800000   \n",
       "25%     52.000000    0.000000   94.500000  166.300000   64.100000   52.000000   \n",
       "50%    103.000000    1.000000   97.000000  173.200000   65.500000   54.100000   \n",
       "75%    154.000000    2.000000  102.400000  183.100000   66.900000   55.500000   \n",
       "max    205.000000    3.000000  120.900000  208.100000   72.300000   59.800000   \n",
       "\n",
       "        curbweight  enginesize   boreratio      stroke  compressionratio  \\\n",
       "count   205.000000  205.000000  205.000000  205.000000        205.000000   \n",
       "mean   2555.565854  126.907317    3.329756    3.255415         10.142537   \n",
       "std     520.680204   41.642693    0.270844    0.313597          3.972040   \n",
       "min    1488.000000   61.000000    2.540000    2.070000          7.000000   \n",
       "25%    2145.000000   97.000000    3.150000    3.110000          8.600000   \n",
       "50%    2414.000000  120.000000    3.310000    3.290000          9.000000   \n",
       "75%    2935.000000  141.000000    3.580000    3.410000          9.400000   \n",
       "max    4066.000000  326.000000    3.940000    4.170000         23.000000   \n",
       "\n",
       "       horsepower      peakrpm     citympg  highwaympg         price  \n",
       "count  205.000000   205.000000  205.000000  205.000000    205.000000  \n",
       "mean   104.117073  5125.121951   25.219512   30.751220  13276.710571  \n",
       "std     39.544167   476.985643    6.542142    6.886443   7988.852332  \n",
       "min     48.000000  4150.000000   13.000000   16.000000   5118.000000  \n",
       "25%     70.000000  4800.000000   19.000000   25.000000   7788.000000  \n",
       "50%     95.000000  5200.000000   24.000000   30.000000  10295.000000  \n",
       "75%    116.000000  5500.000000   30.000000   34.000000  16503.000000  \n",
       "max    288.000000  6600.000000   49.000000   54.000000  45400.000000  "
      ]
     },
     "metadata": {},
     "output_type": "display_data"
    },
    {
     "name": "stdout",
     "output_type": "stream",
     "text": [
      "<class 'pandas.core.frame.DataFrame'>\n",
      "RangeIndex: 205 entries, 0 to 204\n",
      "Data columns (total 26 columns):\n",
      "car_ID              205 non-null int64\n",
      "symboling           205 non-null int64\n",
      "CarName             205 non-null object\n",
      "fueltype            205 non-null object\n",
      "aspiration          205 non-null object\n",
      "doornumber          205 non-null object\n",
      "carbody             205 non-null object\n",
      "drivewheel          205 non-null object\n",
      "enginelocation      205 non-null object\n",
      "wheelbase           205 non-null float64\n",
      "carlength           205 non-null float64\n",
      "carwidth            205 non-null float64\n",
      "carheight           205 non-null float64\n",
      "curbweight          205 non-null int64\n",
      "enginetype          205 non-null object\n",
      "cylindernumber      205 non-null object\n",
      "enginesize          205 non-null int64\n",
      "fuelsystem          205 non-null object\n",
      "boreratio           205 non-null float64\n",
      "stroke              205 non-null float64\n",
      "compressionratio    205 non-null float64\n",
      "horsepower          205 non-null int64\n",
      "peakrpm             205 non-null int64\n",
      "citympg             205 non-null int64\n",
      "highwaympg          205 non-null int64\n",
      "price               205 non-null float64\n",
      "dtypes: float64(8), int64(8), object(10)\n",
      "memory usage: 41.7+ KB\n"
     ]
    },
    {
     "data": {
      "text/plain": [
       "None"
      ]
     },
     "metadata": {},
     "output_type": "display_data"
    }
   ],
   "source": [
    "# CSV 파일 열기\n",
    "car_details = pd.read_csv('CarPrice_Assignment.csv')\n",
    "\n",
    "# 상위 5개 가져오기\n",
    "car_details.head()\n",
    "\n",
    "# 데이터 구조 \n",
    "display(car_details.shape)\n",
    "\n",
    "# 통계요약\n",
    "display(car_details.describe())\n",
    "\n",
    "# 데이터 정보\n",
    "display(car_details.info())"
   ]
  },
  {
   "cell_type": "markdown",
   "metadata": {},
   "source": [
    "### 데이터 클리닝 및 준비"
   ]
  },
  {
   "cell_type": "code",
   "execution_count": 3,
   "metadata": {
    "scrolled": true
   },
   "outputs": [
    {
     "data": {
      "text/html": [
       "<div>\n",
       "<style scoped>\n",
       "    .dataframe tbody tr th:only-of-type {\n",
       "        vertical-align: middle;\n",
       "    }\n",
       "\n",
       "    .dataframe tbody tr th {\n",
       "        vertical-align: top;\n",
       "    }\n",
       "\n",
       "    .dataframe thead th {\n",
       "        text-align: right;\n",
       "    }\n",
       "</style>\n",
       "<table border=\"1\" class=\"dataframe\">\n",
       "  <thead>\n",
       "    <tr style=\"text-align: right;\">\n",
       "      <th></th>\n",
       "      <th>car_ID</th>\n",
       "      <th>symboling</th>\n",
       "      <th>fueltype</th>\n",
       "      <th>companyname</th>\n",
       "      <th>aspiration</th>\n",
       "      <th>doornumber</th>\n",
       "      <th>carbody</th>\n",
       "      <th>drivewheel</th>\n",
       "      <th>enginelocation</th>\n",
       "      <th>wheelbase</th>\n",
       "      <th>...</th>\n",
       "      <th>enginesize</th>\n",
       "      <th>fuelsystem</th>\n",
       "      <th>boreratio</th>\n",
       "      <th>stroke</th>\n",
       "      <th>compressionratio</th>\n",
       "      <th>horsepower</th>\n",
       "      <th>peakrpm</th>\n",
       "      <th>citympg</th>\n",
       "      <th>highwaympg</th>\n",
       "      <th>price</th>\n",
       "    </tr>\n",
       "  </thead>\n",
       "  <tbody>\n",
       "    <tr>\n",
       "      <th>0</th>\n",
       "      <td>1</td>\n",
       "      <td>3</td>\n",
       "      <td>gas</td>\n",
       "      <td>alfa-romero</td>\n",
       "      <td>std</td>\n",
       "      <td>two</td>\n",
       "      <td>convertible</td>\n",
       "      <td>rwd</td>\n",
       "      <td>front</td>\n",
       "      <td>88.6</td>\n",
       "      <td>...</td>\n",
       "      <td>130</td>\n",
       "      <td>mpfi</td>\n",
       "      <td>3.47</td>\n",
       "      <td>2.68</td>\n",
       "      <td>9.0</td>\n",
       "      <td>111</td>\n",
       "      <td>5000</td>\n",
       "      <td>21</td>\n",
       "      <td>27</td>\n",
       "      <td>13495.0</td>\n",
       "    </tr>\n",
       "    <tr>\n",
       "      <th>1</th>\n",
       "      <td>2</td>\n",
       "      <td>3</td>\n",
       "      <td>gas</td>\n",
       "      <td>alfa-romero</td>\n",
       "      <td>std</td>\n",
       "      <td>two</td>\n",
       "      <td>convertible</td>\n",
       "      <td>rwd</td>\n",
       "      <td>front</td>\n",
       "      <td>88.6</td>\n",
       "      <td>...</td>\n",
       "      <td>130</td>\n",
       "      <td>mpfi</td>\n",
       "      <td>3.47</td>\n",
       "      <td>2.68</td>\n",
       "      <td>9.0</td>\n",
       "      <td>111</td>\n",
       "      <td>5000</td>\n",
       "      <td>21</td>\n",
       "      <td>27</td>\n",
       "      <td>16500.0</td>\n",
       "    </tr>\n",
       "    <tr>\n",
       "      <th>2</th>\n",
       "      <td>3</td>\n",
       "      <td>1</td>\n",
       "      <td>gas</td>\n",
       "      <td>alfa-romero</td>\n",
       "      <td>std</td>\n",
       "      <td>two</td>\n",
       "      <td>hatchback</td>\n",
       "      <td>rwd</td>\n",
       "      <td>front</td>\n",
       "      <td>94.5</td>\n",
       "      <td>...</td>\n",
       "      <td>152</td>\n",
       "      <td>mpfi</td>\n",
       "      <td>2.68</td>\n",
       "      <td>3.47</td>\n",
       "      <td>9.0</td>\n",
       "      <td>154</td>\n",
       "      <td>5000</td>\n",
       "      <td>19</td>\n",
       "      <td>26</td>\n",
       "      <td>16500.0</td>\n",
       "    </tr>\n",
       "    <tr>\n",
       "      <th>3</th>\n",
       "      <td>4</td>\n",
       "      <td>2</td>\n",
       "      <td>gas</td>\n",
       "      <td>audi</td>\n",
       "      <td>std</td>\n",
       "      <td>four</td>\n",
       "      <td>sedan</td>\n",
       "      <td>fwd</td>\n",
       "      <td>front</td>\n",
       "      <td>99.8</td>\n",
       "      <td>...</td>\n",
       "      <td>109</td>\n",
       "      <td>mpfi</td>\n",
       "      <td>3.19</td>\n",
       "      <td>3.40</td>\n",
       "      <td>10.0</td>\n",
       "      <td>102</td>\n",
       "      <td>5500</td>\n",
       "      <td>24</td>\n",
       "      <td>30</td>\n",
       "      <td>13950.0</td>\n",
       "    </tr>\n",
       "    <tr>\n",
       "      <th>4</th>\n",
       "      <td>5</td>\n",
       "      <td>2</td>\n",
       "      <td>gas</td>\n",
       "      <td>audi</td>\n",
       "      <td>std</td>\n",
       "      <td>four</td>\n",
       "      <td>sedan</td>\n",
       "      <td>4wd</td>\n",
       "      <td>front</td>\n",
       "      <td>99.4</td>\n",
       "      <td>...</td>\n",
       "      <td>136</td>\n",
       "      <td>mpfi</td>\n",
       "      <td>3.19</td>\n",
       "      <td>3.40</td>\n",
       "      <td>8.0</td>\n",
       "      <td>115</td>\n",
       "      <td>5500</td>\n",
       "      <td>18</td>\n",
       "      <td>22</td>\n",
       "      <td>17450.0</td>\n",
       "    </tr>\n",
       "  </tbody>\n",
       "</table>\n",
       "<p>5 rows × 26 columns</p>\n",
       "</div>"
      ],
      "text/plain": [
       "   car_ID  symboling fueltype  companyname aspiration doornumber      carbody  \\\n",
       "0       1          3      gas  alfa-romero        std        two  convertible   \n",
       "1       2          3      gas  alfa-romero        std        two  convertible   \n",
       "2       3          1      gas  alfa-romero        std        two    hatchback   \n",
       "3       4          2      gas         audi        std       four        sedan   \n",
       "4       5          2      gas         audi        std       four        sedan   \n",
       "\n",
       "  drivewheel enginelocation  wheelbase  ...  enginesize  fuelsystem  \\\n",
       "0        rwd          front       88.6  ...         130        mpfi   \n",
       "1        rwd          front       88.6  ...         130        mpfi   \n",
       "2        rwd          front       94.5  ...         152        mpfi   \n",
       "3        fwd          front       99.8  ...         109        mpfi   \n",
       "4        4wd          front       99.4  ...         136        mpfi   \n",
       "\n",
       "   boreratio  stroke compressionratio horsepower  peakrpm citympg  highwaympg  \\\n",
       "0       3.47    2.68              9.0        111     5000      21          27   \n",
       "1       3.47    2.68              9.0        111     5000      21          27   \n",
       "2       2.68    3.47              9.0        154     5000      19          26   \n",
       "3       3.19    3.40             10.0        102     5500      24          30   \n",
       "4       3.19    3.40              8.0        115     5500      18          22   \n",
       "\n",
       "     price  \n",
       "0  13495.0  \n",
       "1  16500.0  \n",
       "2  16500.0  \n",
       "3  13950.0  \n",
       "4  17450.0  \n",
       "\n",
       "[5 rows x 26 columns]"
      ]
     },
     "execution_count": 3,
     "metadata": {},
     "output_type": "execute_result"
    }
   ],
   "source": [
    "# CarName 변수에서 companyname 분할\n",
    "companyname = car_details['CarName'].apply(lambda name : name.split(' ')[0])\n",
    "\n",
    "# CarName 변수 drop\n",
    "car_details.drop(columns = {'CarName'}, axis = 1, inplace = True)\n",
    "\n",
    "# companyname 새 변수로 추가\n",
    "car_details.insert(loc = 3, column = 'companyname', value = companyname)\n",
    "\n",
    "# 상위 5개 값 가져오기\n",
    "car_details.head()"
   ]
  },
  {
   "cell_type": "code",
   "execution_count": 4,
   "metadata": {},
   "outputs": [
    {
     "data": {
      "text/html": [
       "<div>\n",
       "<style scoped>\n",
       "    .dataframe tbody tr th:only-of-type {\n",
       "        vertical-align: middle;\n",
       "    }\n",
       "\n",
       "    .dataframe tbody tr th {\n",
       "        vertical-align: top;\n",
       "    }\n",
       "\n",
       "    .dataframe thead th {\n",
       "        text-align: right;\n",
       "    }\n",
       "</style>\n",
       "<table border=\"1\" class=\"dataframe\">\n",
       "  <thead>\n",
       "    <tr style=\"text-align: right;\">\n",
       "      <th></th>\n",
       "      <th>car_ID</th>\n",
       "      <th>symboling</th>\n",
       "      <th>fueltype</th>\n",
       "      <th>companyname</th>\n",
       "      <th>aspiration</th>\n",
       "      <th>doornumber</th>\n",
       "      <th>carbody</th>\n",
       "      <th>drivewheel</th>\n",
       "      <th>enginelocation</th>\n",
       "      <th>wheelbase</th>\n",
       "      <th>...</th>\n",
       "      <th>enginesize</th>\n",
       "      <th>fuelsystem</th>\n",
       "      <th>boreratio</th>\n",
       "      <th>stroke</th>\n",
       "      <th>compressionratio</th>\n",
       "      <th>horsepower</th>\n",
       "      <th>peakrpm</th>\n",
       "      <th>citympg</th>\n",
       "      <th>highwaympg</th>\n",
       "      <th>price</th>\n",
       "    </tr>\n",
       "  </thead>\n",
       "  <tbody>\n",
       "  </tbody>\n",
       "</table>\n",
       "<p>0 rows × 26 columns</p>\n",
       "</div>"
      ],
      "text/plain": [
       "Empty DataFrame\n",
       "Columns: [car_ID, symboling, fueltype, companyname, aspiration, doornumber, carbody, drivewheel, enginelocation, wheelbase, carlength, carwidth, carheight, curbweight, enginetype, cylindernumber, enginesize, fuelsystem, boreratio, stroke, compressionratio, horsepower, peakrpm, citympg, highwaympg, price]\n",
       "Index: []\n",
       "\n",
       "[0 rows x 26 columns]"
      ]
     },
     "execution_count": 4,
     "metadata": {},
     "output_type": "execute_result"
    }
   ],
   "source": [
    "# companyname 변수의 고유 값 확인\n",
    "car_details['companyname'].unique()\n",
    "\n",
    "# 데이터를 소문자로 변환\n",
    "car_details['companyname'] = car_details['companyname'].str.lower()\n",
    "\n",
    "# 철자 오류의 이름을 바꾸는 함수 정의\n",
    "def renameCompanyName(error_data, correct_data):\n",
    "    car_details['companyname'].replace(error_data, correct_data, inplace = True)\n",
    "\n",
    "# call namecompanyName 함수 \n",
    "renameCompanyName('vw','volkswagen')\n",
    "renameCompanyName('vokswagen','volkswagen')\n",
    "renameCompanyName('maxda','mazda')\n",
    "renameCompanyName('porcshce','porsche')\n",
    "renameCompanyName('toyouta','toyota')\n",
    "\n",
    "# companyname 변수의 고유 값 확인\n",
    "car_details['companyname'].unique()\n",
    "\n",
    "# car_details dataframe에서 중복 값 확인\n",
    "car_details.loc[car_details.duplicated()]"
   ]
  },
  {
   "cell_type": "markdown",
   "metadata": {},
   "source": [
    "### 데이터 시각화"
   ]
  },
  {
   "cell_type": "code",
   "execution_count": 5,
   "metadata": {},
   "outputs": [
    {
     "data": {
      "text/plain": [
       "<matplotlib.axes._subplots.AxesSubplot at 0x21c522e80b8>"
      ]
     },
     "execution_count": 5,
     "metadata": {},
     "output_type": "execute_result"
    },
    {
     "data": {
      "image/png": "[encoded data removed]",
      "text/plain": [
       "<Figure size 1080x432 with 2 Axes>"
      ]
     },
     "metadata": {
      "needs_background": "light"
     },
     "output_type": "display_data"
    }
   ],
   "source": [
    "# 자동차 가격 시각화\n",
    "plt.figure(figsize=(15,6)) # Set width and height for the plots\n",
    "\n",
    "plt.subplot(1,2,1) # Set the rows, columns and their indexing position\n",
    "sns.distplot(a = car_details.price)\n",
    "\n",
    "plt.subplot(1,2,2) # Set the rows, columns and their indexing position\n",
    "sns.boxplot(y = car_details.price)"
   ]
  },
  {
   "cell_type": "code",
   "execution_count": 6,
   "metadata": {},
   "outputs": [
    {
     "data": {
      "text/plain": [
       "count      205.000000\n",
       "mean     13276.710571\n",
       "std       7988.852332\n",
       "min       5118.000000\n",
       "25%       7788.000000\n",
       "50%      10295.000000\n",
       "75%      16503.000000\n",
       "85%      18500.000000\n",
       "95%      32472.400000\n",
       "100%     45400.000000\n",
       "max      45400.000000\n",
       "Name: price, dtype: float64"
      ]
     },
     "execution_count": 6,
     "metadata": {},
     "output_type": "execute_result"
    }
   ],
   "source": [
    "# 자동차 가격 통계요약\n",
    "car_details.price.describe(percentiles = [0.25, 0.5, 0.75, 0.85, 0.95, 1])"
   ]
  },
  {
   "cell_type": "code",
   "execution_count": 7,
   "metadata": {},
   "outputs": [
    {
     "data": {
      "text/plain": [
       "[Text(0, 0.5, 'Frequency of fuel type'), Text(0.5, 0, 'Fuel Type')]"
      ]
     },
     "execution_count": 7,
     "metadata": {},
     "output_type": "execute_result"
    },
    {
     "data": {
      "image/png": "[encoded data removed]",
      "text/plain": [
       "<Figure size 1440x432 with 3 Axes>"
      ]
     },
     "metadata": {
      "needs_background": "light"
     },
     "output_type": "display_data"
    }
   ],
   "source": [
    "# 자동차 회사, 유형, 연료유형 시각화\n",
    "plt.figure(figsize = (20,6))\n",
    "\n",
    "plt.subplot(1,3,1)\n",
    "plt1 = car_details.companyname.value_counts().plot('bar')\n",
    "plt.title('Companies')\n",
    "plt1.set(xlabel = 'Car Company', ylabel='Frequency of Car Company')\n",
    "\n",
    "plt.subplot(1,3,2)\n",
    "plt1 = car_details.carbody.value_counts().plot('bar')\n",
    "plt.title('Car Type')\n",
    "plt1.set(xlabel = 'Car Type', ylabel='Frequency of Car type')\n",
    "\n",
    "plt.subplot(1,3,3)\n",
    "plt1 = car_details.fueltype.value_counts().plot('bar')\n",
    "plt.title('Fuel Type')\n",
    "plt1.set(xlabel = 'Fuel Type', ylabel='Frequency of fuel type')"
   ]
  },
  {
   "cell_type": "code",
   "execution_count": 8,
   "metadata": {},
   "outputs": [
    {
     "data": {
      "text/plain": [
       "[Text(0, 0.5, 'Frequency of Engine Type'), Text(0.5, 0, 'Engine Type')]"
      ]
     },
     "execution_count": 8,
     "metadata": {},
     "output_type": "execute_result"
    },
    {
     "data": {
      "image/png": "[encoded data removed]",
      "text/plain": [
       "<Figure size 432x288 with 1 Axes>"
      ]
     },
     "metadata": {
      "needs_background": "light"
     },
     "output_type": "display_data"
    }
   ],
   "source": [
    "# 엔진 유형 설정 시각화\n",
    "plt1 = car_details.enginetype.value_counts().plot('bar')\n",
    "plt.title('Engine Type')\n",
    "plt1.set(xlabel = 'Engine Type', ylabel='Frequency of Engine Type')"
   ]
  },
  {
   "cell_type": "code",
   "execution_count": 9,
   "metadata": {},
   "outputs": [
    {
     "data": {
      "text/plain": [
       "[Text(0, 0.5, 'Average Price'), Text(0.5, 0, 'Fuel Type')]"
      ]
     },
     "execution_count": 9,
     "metadata": {},
     "output_type": "execute_result"
    },
    {
     "data": {
      "image/png": "[encoded data removed]",
      "text/plain": [
       "<Figure size 1440x432 with 3 Axes>"
      ]
     },
     "metadata": {
      "needs_background": "light"
     },
     "output_type": "display_data"
    }
   ],
   "source": [
    "plt.figure(figsize=(20,6))\n",
    "\n",
    "plt.subplot(1,3,1)\n",
    "plt1 = car_details.groupby('companyname')['price'].mean().sort_values(ascending = False).plot('bar')\n",
    "plt1.set(xlabel = 'Car Company', ylabel = 'Average Price')\n",
    "\n",
    "plt.subplot(1,3,2)\n",
    "plt1 = car_details.groupby('enginetype')['price'].mean().sort_values(ascending = False).plot('bar')\n",
    "plt1.set(xlabel = 'Engine Type', ylabel = 'Average Price')\n",
    "\n",
    "plt.subplot(1,3,3)\n",
    "plt1 = car_details.groupby('fueltype')['price'].mean().sort_values(ascending = False).plot('bar')\n",
    "plt1.set(xlabel = 'Fuel Type', ylabel = 'Average Price')"
   ]
  },
  {
   "cell_type": "code",
   "execution_count": 10,
   "metadata": {},
   "outputs": [
    {
     "data": {
      "text/plain": [
       "[Text(0, 0.5, 'Average Price'), Text(0.5, 0, 'Engine Location')]"
      ]
     },
     "execution_count": 10,
     "metadata": {},
     "output_type": "execute_result"
    },
    {
     "data": {
      "image/png": "[encoded data removed]",
      "text/plain": [
       "<Figure size 1296x360 with 2 Axes>"
      ]
     },
     "metadata": {
      "needs_background": "light"
     },
     "output_type": "display_data"
    }
   ],
   "source": [
    "plt.figure(figsize=(18,5))\n",
    "\n",
    "plt.subplot(1,2,1)\n",
    "plt1 = car_details.enginelocation.value_counts().sort_values(ascending = False).plot('bar')\n",
    "plt1.set(xlabel = 'Engine Location', ylabel = 'Frequency of Engine Location')\n",
    "\n",
    "plt.subplot(1,2,2)\n",
    "plt1 = car_details.groupby('enginelocation')['price'].mean().sort_values(ascending = False).plot('bar')\n",
    "plt1.set(xlabel = 'Engine Location', ylabel = 'Average Price')"
   ]
  },
  {
   "cell_type": "markdown",
   "metadata": {},
   "source": [
    "### 특징 추출"
   ]
  },
  {
   "cell_type": "code",
   "execution_count": 11,
   "metadata": {},
   "outputs": [
    {
     "data": {
      "text/plain": [
       "Text(0, 0.5, 'Price')"
      ]
     },
     "execution_count": 11,
     "metadata": {},
     "output_type": "execute_result"
    },
    {
     "data": {
      "image/png": "[encoded data removed]",
      "text/plain": [
       "<Figure size 1080x432 with 1 Axes>"
      ]
     },
     "metadata": {
      "needs_background": "light"
     },
     "output_type": "display_data"
    }
   ],
   "source": [
    "# highwaympg와 citympg를 이용한 연비 산정\n",
    "car_details['fueleconomy'] = (0.45 * car_details['highwaympg']) + (0.55 * car_details['citympg'])\n",
    "\n",
    "# boreratio와 stroke를 사용하여 비율 계산\n",
    "car_details['strokeratio'] = car_details['boreratio'] / car_details['stroke']\n",
    "\n",
    "# 평균 자동차 가격을 기준으로 자동차 회사 분류\n",
    "car_details['price'] = car_details['price'].astype('int')\n",
    "temp1 = car_details.copy()\n",
    "temp2 = temp1.groupby('companyname')['price'].mean()\n",
    "temp1 = temp1.merge(temp2.reset_index(), how = 'left', on = 'companyname')\n",
    "bins = [0, 10000, 20000, 40000]\n",
    "cars_bins = ['Low', 'Medium', 'High']\n",
    "car_details['carsrange'] = pd.cut(temp1['price_y'], bins, right = False, labels = cars_bins)\n",
    "\n",
    "plt.figure(figsize = (15,6))\n",
    "plt.title('Fuel Economy vs Price')\n",
    "sns.scatterplot(x = car_details['fueleconomy'], y = car_details['price'])\n",
    "plt.xlabel('Fuel Economy')\n",
    "plt.ylabel('Price')"
   ]
  },
  {
   "cell_type": "code",
   "execution_count": 12,
   "metadata": {},
   "outputs": [
    {
     "data": {
      "text/plain": [
       "<matplotlib.axes._subplots.AxesSubplot at 0x21c52c8e518>"
      ]
     },
     "execution_count": 12,
     "metadata": {},
     "output_type": "execute_result"
    },
    {
     "data": {
      "image/png": "[encoded data removed]",
      "text/plain": [
       "<Figure size 1080x432 with 2 Axes>"
      ]
     },
     "metadata": {
      "needs_background": "light"
     },
     "output_type": "display_data"
    }
   ],
   "source": [
    "plt.figure(figsize=(15,6))\n",
    "sns.heatmap(car_details.corr(), annot = True, cmap='YlGnBu')"
   ]
  },
  {
   "cell_type": "markdown",
   "metadata": {},
   "source": [
    "### 더미 변수로 변환"
   ]
  },
  {
   "cell_type": "code",
   "execution_count": 13,
   "metadata": {},
   "outputs": [
    {
     "data": {
      "text/plain": [
       "(205, 54)"
      ]
     },
     "metadata": {},
     "output_type": "display_data"
    },
    {
     "data": {
      "text/html": [
       "<div>\n",
       "<style scoped>\n",
       "    .dataframe tbody tr th:only-of-type {\n",
       "        vertical-align: middle;\n",
       "    }\n",
       "\n",
       "    .dataframe tbody tr th {\n",
       "        vertical-align: top;\n",
       "    }\n",
       "\n",
       "    .dataframe thead th {\n",
       "        text-align: right;\n",
       "    }\n",
       "</style>\n",
       "<table border=\"1\" class=\"dataframe\">\n",
       "  <thead>\n",
       "    <tr style=\"text-align: right;\">\n",
       "      <th></th>\n",
       "      <th>car_ID</th>\n",
       "      <th>companyname</th>\n",
       "      <th>wheelbase</th>\n",
       "      <th>carlength</th>\n",
       "      <th>carwidth</th>\n",
       "      <th>carheight</th>\n",
       "      <th>curbweight</th>\n",
       "      <th>enginesize</th>\n",
       "      <th>boreratio</th>\n",
       "      <th>stroke</th>\n",
       "      <th>...</th>\n",
       "      <th>two</th>\n",
       "      <th>2bbl</th>\n",
       "      <th>4bbl</th>\n",
       "      <th>idi</th>\n",
       "      <th>mfi</th>\n",
       "      <th>mpfi</th>\n",
       "      <th>spdi</th>\n",
       "      <th>spfi</th>\n",
       "      <th>Medium</th>\n",
       "      <th>High</th>\n",
       "    </tr>\n",
       "  </thead>\n",
       "  <tbody>\n",
       "    <tr>\n",
       "      <th>0</th>\n",
       "      <td>1</td>\n",
       "      <td>alfa-romero</td>\n",
       "      <td>88.6</td>\n",
       "      <td>168.8</td>\n",
       "      <td>64.1</td>\n",
       "      <td>48.8</td>\n",
       "      <td>2548</td>\n",
       "      <td>130</td>\n",
       "      <td>3.47</td>\n",
       "      <td>2.68</td>\n",
       "      <td>...</td>\n",
       "      <td>0</td>\n",
       "      <td>0</td>\n",
       "      <td>0</td>\n",
       "      <td>0</td>\n",
       "      <td>0</td>\n",
       "      <td>1</td>\n",
       "      <td>0</td>\n",
       "      <td>0</td>\n",
       "      <td>1</td>\n",
       "      <td>0</td>\n",
       "    </tr>\n",
       "    <tr>\n",
       "      <th>1</th>\n",
       "      <td>2</td>\n",
       "      <td>alfa-romero</td>\n",
       "      <td>88.6</td>\n",
       "      <td>168.8</td>\n",
       "      <td>64.1</td>\n",
       "      <td>48.8</td>\n",
       "      <td>2548</td>\n",
       "      <td>130</td>\n",
       "      <td>3.47</td>\n",
       "      <td>2.68</td>\n",
       "      <td>...</td>\n",
       "      <td>0</td>\n",
       "      <td>0</td>\n",
       "      <td>0</td>\n",
       "      <td>0</td>\n",
       "      <td>0</td>\n",
       "      <td>1</td>\n",
       "      <td>0</td>\n",
       "      <td>0</td>\n",
       "      <td>1</td>\n",
       "      <td>0</td>\n",
       "    </tr>\n",
       "    <tr>\n",
       "      <th>2</th>\n",
       "      <td>3</td>\n",
       "      <td>alfa-romero</td>\n",
       "      <td>94.5</td>\n",
       "      <td>171.2</td>\n",
       "      <td>65.5</td>\n",
       "      <td>52.4</td>\n",
       "      <td>2823</td>\n",
       "      <td>152</td>\n",
       "      <td>2.68</td>\n",
       "      <td>3.47</td>\n",
       "      <td>...</td>\n",
       "      <td>0</td>\n",
       "      <td>0</td>\n",
       "      <td>0</td>\n",
       "      <td>0</td>\n",
       "      <td>0</td>\n",
       "      <td>1</td>\n",
       "      <td>0</td>\n",
       "      <td>0</td>\n",
       "      <td>1</td>\n",
       "      <td>0</td>\n",
       "    </tr>\n",
       "    <tr>\n",
       "      <th>3</th>\n",
       "      <td>4</td>\n",
       "      <td>audi</td>\n",
       "      <td>99.8</td>\n",
       "      <td>176.6</td>\n",
       "      <td>66.2</td>\n",
       "      <td>54.3</td>\n",
       "      <td>2337</td>\n",
       "      <td>109</td>\n",
       "      <td>3.19</td>\n",
       "      <td>3.40</td>\n",
       "      <td>...</td>\n",
       "      <td>0</td>\n",
       "      <td>0</td>\n",
       "      <td>0</td>\n",
       "      <td>0</td>\n",
       "      <td>0</td>\n",
       "      <td>1</td>\n",
       "      <td>0</td>\n",
       "      <td>0</td>\n",
       "      <td>1</td>\n",
       "      <td>0</td>\n",
       "    </tr>\n",
       "    <tr>\n",
       "      <th>4</th>\n",
       "      <td>5</td>\n",
       "      <td>audi</td>\n",
       "      <td>99.4</td>\n",
       "      <td>176.6</td>\n",
       "      <td>66.4</td>\n",
       "      <td>54.3</td>\n",
       "      <td>2824</td>\n",
       "      <td>136</td>\n",
       "      <td>3.19</td>\n",
       "      <td>3.40</td>\n",
       "      <td>...</td>\n",
       "      <td>0</td>\n",
       "      <td>0</td>\n",
       "      <td>0</td>\n",
       "      <td>0</td>\n",
       "      <td>0</td>\n",
       "      <td>1</td>\n",
       "      <td>0</td>\n",
       "      <td>0</td>\n",
       "      <td>1</td>\n",
       "      <td>0</td>\n",
       "    </tr>\n",
       "  </tbody>\n",
       "</table>\n",
       "<p>5 rows × 54 columns</p>\n",
       "</div>"
      ],
      "text/plain": [
       "   car_ID  companyname  wheelbase  carlength  carwidth  carheight  curbweight  \\\n",
       "0       1  alfa-romero       88.6      168.8      64.1       48.8        2548   \n",
       "1       2  alfa-romero       88.6      168.8      64.1       48.8        2548   \n",
       "2       3  alfa-romero       94.5      171.2      65.5       52.4        2823   \n",
       "3       4         audi       99.8      176.6      66.2       54.3        2337   \n",
       "4       5         audi       99.4      176.6      66.4       54.3        2824   \n",
       "\n",
       "   enginesize  boreratio  stroke  ...  two  2bbl  4bbl  idi  mfi  mpfi  spdi  \\\n",
       "0         130       3.47    2.68  ...    0     0     0    0    0     1     0   \n",
       "1         130       3.47    2.68  ...    0     0     0    0    0     1     0   \n",
       "2         152       2.68    3.47  ...    0     0     0    0    0     1     0   \n",
       "3         109       3.19    3.40  ...    0     0     0    0    0     1     0   \n",
       "4         136       3.19    3.40  ...    0     0     0    0    0     1     0   \n",
       "\n",
       "   spfi  Medium  High  \n",
       "0     0       1     0  \n",
       "1     0       1     0  \n",
       "2     0       1     0  \n",
       "3     0       1     0  \n",
       "4     0       1     0  \n",
       "\n",
       "[5 rows x 54 columns]"
      ]
     },
     "metadata": {},
     "output_type": "display_data"
    }
   ],
   "source": [
    "categorical_variables = ['symboling', 'fueltype', 'aspiration', 'doornumber', 'carbody', 'drivewheel', 'enginelocation',\n",
    "                       'enginetype', 'cylindernumber', 'fuelsystem', 'carsrange']\n",
    "\n",
    "def dummies(x,df):\n",
    "    temp = pd.get_dummies(df[x], drop_first = True)\n",
    "    df= pd.concat([df, temp], axis = 1)\n",
    "    df.drop([x], axis = 1, inplace = True)\n",
    "    return df\n",
    "  \n",
    "for variable in categorical_variables:\n",
    "    car_details = dummies(variable, car_details)\n",
    "    \n",
    "display(car_details.shape)\n",
    "display(car_details.head())"
   ]
  },
  {
   "cell_type": "code",
   "execution_count": 14,
   "metadata": {},
   "outputs": [
    {
     "data": {
      "text/plain": [
       "(205, 52)"
      ]
     },
     "execution_count": 14,
     "metadata": {},
     "output_type": "execute_result"
    }
   ],
   "source": [
    "# 모델 구축시 필요없는 특징 제거\n",
    "car_details.drop(columns =['car_ID','companyname'], inplace = True)\n",
    "\n",
    "car_details.shape"
   ]
  },
  {
   "cell_type": "markdown",
   "metadata": {},
   "source": [
    "### Test & Train 데이터 분할 / 특징 스케일링"
   ]
  },
  {
   "cell_type": "code",
   "execution_count": 15,
   "metadata": {},
   "outputs": [
    {
     "data": {
      "text/html": [
       "<div>\n",
       "<style scoped>\n",
       "    .dataframe tbody tr th:only-of-type {\n",
       "        vertical-align: middle;\n",
       "    }\n",
       "\n",
       "    .dataframe tbody tr th {\n",
       "        vertical-align: top;\n",
       "    }\n",
       "\n",
       "    .dataframe thead th {\n",
       "        text-align: right;\n",
       "    }\n",
       "</style>\n",
       "<table border=\"1\" class=\"dataframe\">\n",
       "  <thead>\n",
       "    <tr style=\"text-align: right;\">\n",
       "      <th></th>\n",
       "      <th>wheelbase</th>\n",
       "      <th>carlength</th>\n",
       "      <th>carwidth</th>\n",
       "      <th>carheight</th>\n",
       "      <th>curbweight</th>\n",
       "      <th>enginesize</th>\n",
       "      <th>boreratio</th>\n",
       "      <th>stroke</th>\n",
       "      <th>compressionratio</th>\n",
       "      <th>horsepower</th>\n",
       "      <th>...</th>\n",
       "      <th>two</th>\n",
       "      <th>2bbl</th>\n",
       "      <th>4bbl</th>\n",
       "      <th>idi</th>\n",
       "      <th>mfi</th>\n",
       "      <th>mpfi</th>\n",
       "      <th>spdi</th>\n",
       "      <th>spfi</th>\n",
       "      <th>Medium</th>\n",
       "      <th>High</th>\n",
       "    </tr>\n",
       "  </thead>\n",
       "  <tbody>\n",
       "    <tr>\n",
       "      <th>count</th>\n",
       "      <td>143.000000</td>\n",
       "      <td>143.000000</td>\n",
       "      <td>143.000000</td>\n",
       "      <td>143.000000</td>\n",
       "      <td>143.000000</td>\n",
       "      <td>143.000000</td>\n",
       "      <td>143.000000</td>\n",
       "      <td>143.000000</td>\n",
       "      <td>143.000000</td>\n",
       "      <td>143.000000</td>\n",
       "      <td>...</td>\n",
       "      <td>143.000000</td>\n",
       "      <td>143.000000</td>\n",
       "      <td>143.000000</td>\n",
       "      <td>143.000000</td>\n",
       "      <td>143.0</td>\n",
       "      <td>143.000000</td>\n",
       "      <td>143.000000</td>\n",
       "      <td>143.0</td>\n",
       "      <td>143.000000</td>\n",
       "      <td>143.000000</td>\n",
       "    </tr>\n",
       "    <tr>\n",
       "      <th>mean</th>\n",
       "      <td>0.411141</td>\n",
       "      <td>0.525476</td>\n",
       "      <td>0.461655</td>\n",
       "      <td>0.509004</td>\n",
       "      <td>0.407878</td>\n",
       "      <td>0.241351</td>\n",
       "      <td>0.497946</td>\n",
       "      <td>0.535389</td>\n",
       "      <td>0.190787</td>\n",
       "      <td>0.227302</td>\n",
       "      <td>...</td>\n",
       "      <td>0.027972</td>\n",
       "      <td>0.349650</td>\n",
       "      <td>0.020979</td>\n",
       "      <td>0.090909</td>\n",
       "      <td>0.0</td>\n",
       "      <td>0.440559</td>\n",
       "      <td>0.041958</td>\n",
       "      <td>0.0</td>\n",
       "      <td>0.412587</td>\n",
       "      <td>0.118881</td>\n",
       "    </tr>\n",
       "    <tr>\n",
       "      <th>std</th>\n",
       "      <td>0.205581</td>\n",
       "      <td>0.204848</td>\n",
       "      <td>0.184517</td>\n",
       "      <td>0.215378</td>\n",
       "      <td>0.211269</td>\n",
       "      <td>0.154619</td>\n",
       "      <td>0.207140</td>\n",
       "      <td>0.157843</td>\n",
       "      <td>0.237181</td>\n",
       "      <td>0.165511</td>\n",
       "      <td>...</td>\n",
       "      <td>0.165472</td>\n",
       "      <td>0.478536</td>\n",
       "      <td>0.143818</td>\n",
       "      <td>0.288490</td>\n",
       "      <td>0.0</td>\n",
       "      <td>0.498199</td>\n",
       "      <td>0.201198</td>\n",
       "      <td>0.0</td>\n",
       "      <td>0.494030</td>\n",
       "      <td>0.324786</td>\n",
       "    </tr>\n",
       "    <tr>\n",
       "      <th>min</th>\n",
       "      <td>0.000000</td>\n",
       "      <td>0.000000</td>\n",
       "      <td>0.000000</td>\n",
       "      <td>0.000000</td>\n",
       "      <td>0.000000</td>\n",
       "      <td>0.000000</td>\n",
       "      <td>0.000000</td>\n",
       "      <td>0.000000</td>\n",
       "      <td>0.000000</td>\n",
       "      <td>0.000000</td>\n",
       "      <td>...</td>\n",
       "      <td>0.000000</td>\n",
       "      <td>0.000000</td>\n",
       "      <td>0.000000</td>\n",
       "      <td>0.000000</td>\n",
       "      <td>0.0</td>\n",
       "      <td>0.000000</td>\n",
       "      <td>0.000000</td>\n",
       "      <td>0.0</td>\n",
       "      <td>0.000000</td>\n",
       "      <td>0.000000</td>\n",
       "    </tr>\n",
       "    <tr>\n",
       "      <th>25%</th>\n",
       "      <td>0.272414</td>\n",
       "      <td>0.399187</td>\n",
       "      <td>0.304167</td>\n",
       "      <td>0.353982</td>\n",
       "      <td>0.245539</td>\n",
       "      <td>0.135849</td>\n",
       "      <td>0.305556</td>\n",
       "      <td>0.464646</td>\n",
       "      <td>0.100000</td>\n",
       "      <td>0.091667</td>\n",
       "      <td>...</td>\n",
       "      <td>0.000000</td>\n",
       "      <td>0.000000</td>\n",
       "      <td>0.000000</td>\n",
       "      <td>0.000000</td>\n",
       "      <td>0.0</td>\n",
       "      <td>0.000000</td>\n",
       "      <td>0.000000</td>\n",
       "      <td>0.0</td>\n",
       "      <td>0.000000</td>\n",
       "      <td>0.000000</td>\n",
       "    </tr>\n",
       "    <tr>\n",
       "      <th>50%</th>\n",
       "      <td>0.341379</td>\n",
       "      <td>0.502439</td>\n",
       "      <td>0.425000</td>\n",
       "      <td>0.522124</td>\n",
       "      <td>0.355702</td>\n",
       "      <td>0.184906</td>\n",
       "      <td>0.500000</td>\n",
       "      <td>0.545455</td>\n",
       "      <td>0.125000</td>\n",
       "      <td>0.191667</td>\n",
       "      <td>...</td>\n",
       "      <td>0.000000</td>\n",
       "      <td>0.000000</td>\n",
       "      <td>0.000000</td>\n",
       "      <td>0.000000</td>\n",
       "      <td>0.0</td>\n",
       "      <td>0.000000</td>\n",
       "      <td>0.000000</td>\n",
       "      <td>0.0</td>\n",
       "      <td>0.000000</td>\n",
       "      <td>0.000000</td>\n",
       "    </tr>\n",
       "    <tr>\n",
       "      <th>75%</th>\n",
       "      <td>0.503448</td>\n",
       "      <td>0.669919</td>\n",
       "      <td>0.550000</td>\n",
       "      <td>0.668142</td>\n",
       "      <td>0.559542</td>\n",
       "      <td>0.301887</td>\n",
       "      <td>0.682540</td>\n",
       "      <td>0.611111</td>\n",
       "      <td>0.150000</td>\n",
       "      <td>0.283333</td>\n",
       "      <td>...</td>\n",
       "      <td>0.000000</td>\n",
       "      <td>1.000000</td>\n",
       "      <td>0.000000</td>\n",
       "      <td>0.000000</td>\n",
       "      <td>0.0</td>\n",
       "      <td>1.000000</td>\n",
       "      <td>0.000000</td>\n",
       "      <td>0.0</td>\n",
       "      <td>1.000000</td>\n",
       "      <td>0.000000</td>\n",
       "    </tr>\n",
       "    <tr>\n",
       "      <th>max</th>\n",
       "      <td>1.000000</td>\n",
       "      <td>1.000000</td>\n",
       "      <td>1.000000</td>\n",
       "      <td>1.000000</td>\n",
       "      <td>1.000000</td>\n",
       "      <td>1.000000</td>\n",
       "      <td>1.000000</td>\n",
       "      <td>1.000000</td>\n",
       "      <td>1.000000</td>\n",
       "      <td>1.000000</td>\n",
       "      <td>...</td>\n",
       "      <td>1.000000</td>\n",
       "      <td>1.000000</td>\n",
       "      <td>1.000000</td>\n",
       "      <td>1.000000</td>\n",
       "      <td>0.0</td>\n",
       "      <td>1.000000</td>\n",
       "      <td>1.000000</td>\n",
       "      <td>0.0</td>\n",
       "      <td>1.000000</td>\n",
       "      <td>1.000000</td>\n",
       "    </tr>\n",
       "  </tbody>\n",
       "</table>\n",
       "<p>8 rows × 52 columns</p>\n",
       "</div>"
      ],
      "text/plain": [
       "        wheelbase   carlength    carwidth   carheight  curbweight  enginesize  \\\n",
       "count  143.000000  143.000000  143.000000  143.000000  143.000000  143.000000   \n",
       "mean     0.411141    0.525476    0.461655    0.509004    0.407878    0.241351   \n",
       "std      0.205581    0.204848    0.184517    0.215378    0.211269    0.154619   \n",
       "min      0.000000    0.000000    0.000000    0.000000    0.000000    0.000000   \n",
       "25%      0.272414    0.399187    0.304167    0.353982    0.245539    0.135849   \n",
       "50%      0.341379    0.502439    0.425000    0.522124    0.355702    0.184906   \n",
       "75%      0.503448    0.669919    0.550000    0.668142    0.559542    0.301887   \n",
       "max      1.000000    1.000000    1.000000    1.000000    1.000000    1.000000   \n",
       "\n",
       "        boreratio      stroke  compressionratio  horsepower  ...         two  \\\n",
       "count  143.000000  143.000000        143.000000  143.000000  ...  143.000000   \n",
       "mean     0.497946    0.535389          0.190787    0.227302  ...    0.027972   \n",
       "std      0.207140    0.157843          0.237181    0.165511  ...    0.165472   \n",
       "min      0.000000    0.000000          0.000000    0.000000  ...    0.000000   \n",
       "25%      0.305556    0.464646          0.100000    0.091667  ...    0.000000   \n",
       "50%      0.500000    0.545455          0.125000    0.191667  ...    0.000000   \n",
       "75%      0.682540    0.611111          0.150000    0.283333  ...    0.000000   \n",
       "max      1.000000    1.000000          1.000000    1.000000  ...    1.000000   \n",
       "\n",
       "             2bbl        4bbl         idi    mfi        mpfi        spdi  \\\n",
       "count  143.000000  143.000000  143.000000  143.0  143.000000  143.000000   \n",
       "mean     0.349650    0.020979    0.090909    0.0    0.440559    0.041958   \n",
       "std      0.478536    0.143818    0.288490    0.0    0.498199    0.201198   \n",
       "min      0.000000    0.000000    0.000000    0.0    0.000000    0.000000   \n",
       "25%      0.000000    0.000000    0.000000    0.0    0.000000    0.000000   \n",
       "50%      0.000000    0.000000    0.000000    0.0    0.000000    0.000000   \n",
       "75%      1.000000    0.000000    0.000000    0.0    1.000000    0.000000   \n",
       "max      1.000000    1.000000    1.000000    0.0    1.000000    1.000000   \n",
       "\n",
       "        spfi      Medium        High  \n",
       "count  143.0  143.000000  143.000000  \n",
       "mean     0.0    0.412587    0.118881  \n",
       "std      0.0    0.494030    0.324786  \n",
       "min      0.0    0.000000    0.000000  \n",
       "25%      0.0    0.000000    0.000000  \n",
       "50%      0.0    0.000000    0.000000  \n",
       "75%      0.0    1.000000    0.000000  \n",
       "max      0.0    1.000000    1.000000  \n",
       "\n",
       "[8 rows x 52 columns]"
      ]
     },
     "metadata": {},
     "output_type": "display_data"
    },
    {
     "data": {
      "text/html": [
       "<div>\n",
       "<style scoped>\n",
       "    .dataframe tbody tr th:only-of-type {\n",
       "        vertical-align: middle;\n",
       "    }\n",
       "\n",
       "    .dataframe tbody tr th {\n",
       "        vertical-align: top;\n",
       "    }\n",
       "\n",
       "    .dataframe thead th {\n",
       "        text-align: right;\n",
       "    }\n",
       "</style>\n",
       "<table border=\"1\" class=\"dataframe\">\n",
       "  <thead>\n",
       "    <tr style=\"text-align: right;\">\n",
       "      <th></th>\n",
       "      <th>wheelbase</th>\n",
       "      <th>carlength</th>\n",
       "      <th>carwidth</th>\n",
       "      <th>carheight</th>\n",
       "      <th>curbweight</th>\n",
       "      <th>enginesize</th>\n",
       "      <th>boreratio</th>\n",
       "      <th>stroke</th>\n",
       "      <th>compressionratio</th>\n",
       "      <th>horsepower</th>\n",
       "      <th>...</th>\n",
       "      <th>two</th>\n",
       "      <th>2bbl</th>\n",
       "      <th>4bbl</th>\n",
       "      <th>idi</th>\n",
       "      <th>mfi</th>\n",
       "      <th>mpfi</th>\n",
       "      <th>spdi</th>\n",
       "      <th>spfi</th>\n",
       "      <th>Medium</th>\n",
       "      <th>High</th>\n",
       "    </tr>\n",
       "  </thead>\n",
       "  <tbody>\n",
       "    <tr>\n",
       "      <th>122</th>\n",
       "      <td>0.244828</td>\n",
       "      <td>0.426016</td>\n",
       "      <td>0.291667</td>\n",
       "      <td>0.265487</td>\n",
       "      <td>0.272692</td>\n",
       "      <td>0.139623</td>\n",
       "      <td>0.230159</td>\n",
       "      <td>0.525253</td>\n",
       "      <td>0.15000</td>\n",
       "      <td>0.083333</td>\n",
       "      <td>...</td>\n",
       "      <td>0</td>\n",
       "      <td>1</td>\n",
       "      <td>0</td>\n",
       "      <td>0</td>\n",
       "      <td>0</td>\n",
       "      <td>0</td>\n",
       "      <td>0</td>\n",
       "      <td>0</td>\n",
       "      <td>0</td>\n",
       "      <td>0</td>\n",
       "    </tr>\n",
       "    <tr>\n",
       "      <th>125</th>\n",
       "      <td>0.272414</td>\n",
       "      <td>0.452033</td>\n",
       "      <td>0.666667</td>\n",
       "      <td>0.212389</td>\n",
       "      <td>0.500388</td>\n",
       "      <td>0.339623</td>\n",
       "      <td>1.000000</td>\n",
       "      <td>0.464646</td>\n",
       "      <td>0.15625</td>\n",
       "      <td>0.395833</td>\n",
       "      <td>...</td>\n",
       "      <td>0</td>\n",
       "      <td>0</td>\n",
       "      <td>0</td>\n",
       "      <td>0</td>\n",
       "      <td>0</td>\n",
       "      <td>1</td>\n",
       "      <td>0</td>\n",
       "      <td>0</td>\n",
       "      <td>0</td>\n",
       "      <td>1</td>\n",
       "    </tr>\n",
       "    <tr>\n",
       "      <th>166</th>\n",
       "      <td>0.272414</td>\n",
       "      <td>0.448780</td>\n",
       "      <td>0.308333</td>\n",
       "      <td>0.424779</td>\n",
       "      <td>0.314973</td>\n",
       "      <td>0.139623</td>\n",
       "      <td>0.444444</td>\n",
       "      <td>0.449495</td>\n",
       "      <td>0.15000</td>\n",
       "      <td>0.266667</td>\n",
       "      <td>...</td>\n",
       "      <td>0</td>\n",
       "      <td>0</td>\n",
       "      <td>0</td>\n",
       "      <td>0</td>\n",
       "      <td>0</td>\n",
       "      <td>1</td>\n",
       "      <td>0</td>\n",
       "      <td>0</td>\n",
       "      <td>0</td>\n",
       "      <td>0</td>\n",
       "    </tr>\n",
       "    <tr>\n",
       "      <th>1</th>\n",
       "      <td>0.068966</td>\n",
       "      <td>0.450407</td>\n",
       "      <td>0.316667</td>\n",
       "      <td>0.088496</td>\n",
       "      <td>0.411171</td>\n",
       "      <td>0.260377</td>\n",
       "      <td>0.626984</td>\n",
       "      <td>0.247475</td>\n",
       "      <td>0.12500</td>\n",
       "      <td>0.262500</td>\n",
       "      <td>...</td>\n",
       "      <td>0</td>\n",
       "      <td>0</td>\n",
       "      <td>0</td>\n",
       "      <td>0</td>\n",
       "      <td>0</td>\n",
       "      <td>1</td>\n",
       "      <td>0</td>\n",
       "      <td>0</td>\n",
       "      <td>1</td>\n",
       "      <td>0</td>\n",
       "    </tr>\n",
       "    <tr>\n",
       "      <th>199</th>\n",
       "      <td>0.610345</td>\n",
       "      <td>0.775610</td>\n",
       "      <td>0.575000</td>\n",
       "      <td>0.858407</td>\n",
       "      <td>0.647401</td>\n",
       "      <td>0.260377</td>\n",
       "      <td>0.746032</td>\n",
       "      <td>0.484848</td>\n",
       "      <td>0.03125</td>\n",
       "      <td>0.475000</td>\n",
       "      <td>...</td>\n",
       "      <td>0</td>\n",
       "      <td>0</td>\n",
       "      <td>0</td>\n",
       "      <td>0</td>\n",
       "      <td>0</td>\n",
       "      <td>1</td>\n",
       "      <td>0</td>\n",
       "      <td>0</td>\n",
       "      <td>1</td>\n",
       "      <td>0</td>\n",
       "    </tr>\n",
       "  </tbody>\n",
       "</table>\n",
       "<p>5 rows × 52 columns</p>\n",
       "</div>"
      ],
      "text/plain": [
       "     wheelbase  carlength  carwidth  carheight  curbweight  enginesize  \\\n",
       "122   0.244828   0.426016  0.291667   0.265487    0.272692    0.139623   \n",
       "125   0.272414   0.452033  0.666667   0.212389    0.500388    0.339623   \n",
       "166   0.272414   0.448780  0.308333   0.424779    0.314973    0.139623   \n",
       "1     0.068966   0.450407  0.316667   0.088496    0.411171    0.260377   \n",
       "199   0.610345   0.775610  0.575000   0.858407    0.647401    0.260377   \n",
       "\n",
       "     boreratio    stroke  compressionratio  horsepower  ...  two  2bbl  4bbl  \\\n",
       "122   0.230159  0.525253           0.15000    0.083333  ...    0     1     0   \n",
       "125   1.000000  0.464646           0.15625    0.395833  ...    0     0     0   \n",
       "166   0.444444  0.449495           0.15000    0.266667  ...    0     0     0   \n",
       "1     0.626984  0.247475           0.12500    0.262500  ...    0     0     0   \n",
       "199   0.746032  0.484848           0.03125    0.475000  ...    0     0     0   \n",
       "\n",
       "     idi  mfi  mpfi  spdi  spfi  Medium  High  \n",
       "122    0    0     0     0     0       0     0  \n",
       "125    0    0     1     0     0       0     1  \n",
       "166    0    0     1     0     0       0     0  \n",
       "1      0    0     1     0     0       1     0  \n",
       "199    0    0     1     0     0       1     0  \n",
       "\n",
       "[5 rows x 52 columns]"
      ]
     },
     "metadata": {},
     "output_type": "display_data"
    }
   ],
   "source": [
    "from sklearn.model_selection import train_test_split\n",
    "\n",
    "np.random.seed(0)\n",
    "df_train, df_test = train_test_split(car_details, train_size = 0.7, test_size = 0.3, random_state = 100)\n",
    "\n",
    "# MinMaxScaler를 사용하여 스케일링 적용\n",
    "from sklearn.preprocessing import MinMaxScaler\n",
    "\n",
    "scaler = MinMaxScaler()\n",
    "num_vars = ['wheelbase', 'carlength', 'carwidth', 'carheight', 'curbweight', 'enginesize', 'boreratio', 'stroke', 'compressionratio',\n",
    "            'horsepower', 'peakrpm', 'citympg', 'highwaympg', 'fueleconomy', 'strokeratio', 'price']\n",
    "df_train[num_vars] = scaler.fit_transform(df_train[num_vars])\n",
    "\n",
    "display(df_train.describe())\n",
    "display(df_train.head())"
   ]
  },
  {
   "cell_type": "code",
   "execution_count": 16,
   "metadata": {},
   "outputs": [],
   "source": [
    "# 데이터를 X 및 Y 변수로 분할\n",
    "y_train = df_train.pop('price')\n",
    "X_train = df_train"
   ]
  },
  {
   "cell_type": "markdown",
   "metadata": {},
   "source": [
    "### 모델 구축"
   ]
  },
  {
   "cell_type": "code",
   "execution_count": 17,
   "metadata": {},
   "outputs": [],
   "source": [
    "from sklearn.feature_selection import RFE\n",
    "from sklearn.linear_model import LinearRegression\n",
    "import statsmodels.api as sm \n",
    "from statsmodels.stats.outliers_influence import variance_inflation_factor"
   ]
  },
  {
   "cell_type": "code",
   "execution_count": 18,
   "metadata": {},
   "outputs": [
    {
     "data": {
      "text/plain": [
       "[('wheelbase', False, 4),\n",
       " ('carlength', False, 30),\n",
       " ('carwidth', True, 1),\n",
       " ('carheight', False, 24),\n",
       " ('curbweight', True, 1),\n",
       " ('enginesize', False, 9),\n",
       " ('boreratio', False, 7),\n",
       " ('stroke', False, 8),\n",
       " ('compressionratio', False, 37),\n",
       " ('horsepower', True, 1),\n",
       " ('peakrpm', False, 12),\n",
       " ('citympg', False, 39),\n",
       " ('highwaympg', False, 27),\n",
       " ('fueleconomy', False, 5),\n",
       " ('strokeratio', False, 16),\n",
       " (-1, False, 21),\n",
       " (0, False, 20),\n",
       " (1, False, 19),\n",
       " (2, False, 18),\n",
       " (3, False, 22),\n",
       " ('gas', False, 31),\n",
       " ('turbo', False, 26),\n",
       " ('two', False, 40),\n",
       " ('hardtop', True, 1),\n",
       " ('hatchback', True, 1),\n",
       " ('sedan', False, 2),\n",
       " ('wagon', True, 1),\n",
       " ('fwd', False, 28),\n",
       " ('rwd', False, 38),\n",
       " ('rear', True, 1),\n",
       " ('dohcv', True, 1),\n",
       " ('l', False, 29),\n",
       " ('ohc', False, 11),\n",
       " ('ohcf', False, 14),\n",
       " ('ohcv', False, 17),\n",
       " ('rotor', False, 6),\n",
       " ('five', False, 36),\n",
       " ('four', False, 15),\n",
       " ('six', False, 32),\n",
       " ('three', True, 1),\n",
       " ('twelve', False, 3),\n",
       " ('two', False, 10),\n",
       " ('2bbl', False, 33),\n",
       " ('4bbl', False, 35),\n",
       " ('idi', False, 13),\n",
       " ('mfi', False, 41),\n",
       " ('mpfi', False, 34),\n",
       " ('spdi', False, 25),\n",
       " ('spfi', False, 42),\n",
       " ('Medium', False, 23),\n",
       " ('High', True, 1)]"
      ]
     },
     "execution_count": 18,
     "metadata": {},
     "output_type": "execute_result"
    }
   ],
   "source": [
    "lm = LinearRegression()\n",
    "lm.fit(X_train,y_train)\n",
    "rfe = RFE(lm, 10)\n",
    "rfe = rfe.fit(X_train, y_train)\n",
    "\n",
    "list(zip(X_train.columns,rfe.support_,rfe.ranking_))"
   ]
  },
  {
   "cell_type": "code",
   "execution_count": 19,
   "metadata": {},
   "outputs": [
    {
     "data": {
      "text/plain": [
       "Index(['carwidth', 'curbweight', 'horsepower', 'hardtop', 'hatchback', 'wagon',\n",
       "       'rear', 'dohcv', 'three', 'High'],\n",
       "      dtype='object')"
      ]
     },
     "execution_count": 19,
     "metadata": {},
     "output_type": "execute_result"
    }
   ],
   "source": [
    "X_train.columns[rfe.support_]"
   ]
  },
  {
   "cell_type": "code",
   "execution_count": 20,
   "metadata": {},
   "outputs": [
    {
     "data": {
      "text/html": [
       "<div>\n",
       "<style scoped>\n",
       "    .dataframe tbody tr th:only-of-type {\n",
       "        vertical-align: middle;\n",
       "    }\n",
       "\n",
       "    .dataframe tbody tr th {\n",
       "        vertical-align: top;\n",
       "    }\n",
       "\n",
       "    .dataframe thead th {\n",
       "        text-align: right;\n",
       "    }\n",
       "</style>\n",
       "<table border=\"1\" class=\"dataframe\">\n",
       "  <thead>\n",
       "    <tr style=\"text-align: right;\">\n",
       "      <th></th>\n",
       "      <th>carwidth</th>\n",
       "      <th>curbweight</th>\n",
       "      <th>horsepower</th>\n",
       "      <th>hardtop</th>\n",
       "      <th>hatchback</th>\n",
       "      <th>wagon</th>\n",
       "      <th>rear</th>\n",
       "      <th>dohcv</th>\n",
       "      <th>three</th>\n",
       "      <th>High</th>\n",
       "    </tr>\n",
       "  </thead>\n",
       "  <tbody>\n",
       "    <tr>\n",
       "      <th>122</th>\n",
       "      <td>0.291667</td>\n",
       "      <td>0.272692</td>\n",
       "      <td>0.083333</td>\n",
       "      <td>0</td>\n",
       "      <td>0</td>\n",
       "      <td>0</td>\n",
       "      <td>0</td>\n",
       "      <td>0</td>\n",
       "      <td>0</td>\n",
       "      <td>0</td>\n",
       "    </tr>\n",
       "    <tr>\n",
       "      <th>125</th>\n",
       "      <td>0.666667</td>\n",
       "      <td>0.500388</td>\n",
       "      <td>0.395833</td>\n",
       "      <td>0</td>\n",
       "      <td>1</td>\n",
       "      <td>0</td>\n",
       "      <td>0</td>\n",
       "      <td>0</td>\n",
       "      <td>0</td>\n",
       "      <td>1</td>\n",
       "    </tr>\n",
       "    <tr>\n",
       "      <th>166</th>\n",
       "      <td>0.308333</td>\n",
       "      <td>0.314973</td>\n",
       "      <td>0.266667</td>\n",
       "      <td>0</td>\n",
       "      <td>1</td>\n",
       "      <td>0</td>\n",
       "      <td>0</td>\n",
       "      <td>0</td>\n",
       "      <td>0</td>\n",
       "      <td>0</td>\n",
       "    </tr>\n",
       "    <tr>\n",
       "      <th>1</th>\n",
       "      <td>0.316667</td>\n",
       "      <td>0.411171</td>\n",
       "      <td>0.262500</td>\n",
       "      <td>0</td>\n",
       "      <td>0</td>\n",
       "      <td>0</td>\n",
       "      <td>0</td>\n",
       "      <td>0</td>\n",
       "      <td>0</td>\n",
       "      <td>0</td>\n",
       "    </tr>\n",
       "    <tr>\n",
       "      <th>199</th>\n",
       "      <td>0.575000</td>\n",
       "      <td>0.647401</td>\n",
       "      <td>0.475000</td>\n",
       "      <td>0</td>\n",
       "      <td>0</td>\n",
       "      <td>1</td>\n",
       "      <td>0</td>\n",
       "      <td>0</td>\n",
       "      <td>0</td>\n",
       "      <td>0</td>\n",
       "    </tr>\n",
       "  </tbody>\n",
       "</table>\n",
       "</div>"
      ],
      "text/plain": [
       "     carwidth  curbweight  horsepower  hardtop  hatchback  wagon  rear  dohcv  \\\n",
       "122  0.291667    0.272692    0.083333        0          0      0     0      0   \n",
       "125  0.666667    0.500388    0.395833        0          1      0     0      0   \n",
       "166  0.308333    0.314973    0.266667        0          1      0     0      0   \n",
       "1    0.316667    0.411171    0.262500        0          0      0     0      0   \n",
       "199  0.575000    0.647401    0.475000        0          0      1     0      0   \n",
       "\n",
       "     three  High  \n",
       "122      0     0  \n",
       "125      0     1  \n",
       "166      0     0  \n",
       "1        0     0  \n",
       "199      0     0  "
      ]
     },
     "execution_count": 20,
     "metadata": {},
     "output_type": "execute_result"
    }
   ],
   "source": [
    "X_train_rfe = X_train[X_train.columns[rfe.support_]]\n",
    "X_train_rfe.head()"
   ]
  },
  {
   "cell_type": "code",
   "execution_count": 21,
   "metadata": {},
   "outputs": [],
   "source": [
    "def buildModel(X,y):\n",
    "    X = sm.add_constant(X) \n",
    "    lm = sm.OLS(y,X).fit()\n",
    "    print(lm.summary()) \n",
    "    return X\n",
    "    \n",
    "def checkVIF(X):\n",
    "    vif = pd.DataFrame()\n",
    "    vif['Features'] = X.columns\n",
    "    vif['VIF'] = [variance_inflation_factor(X.values, i) for i in range(X.shape[1])]\n",
    "    vif['VIF'] = round(vif['VIF'], 2)\n",
    "    vif = vif.sort_values(by = \"VIF\", ascending = False)\n",
    "    return(vif)"
   ]
  },
  {
   "cell_type": "markdown",
   "metadata": {},
   "source": [
    "### 모델 1"
   ]
  },
  {
   "cell_type": "code",
   "execution_count": 22,
   "metadata": {},
   "outputs": [
    {
     "name": "stdout",
     "output_type": "stream",
     "text": [
      "                            OLS Regression Results                            \n",
      "==============================================================================\n",
      "Dep. Variable:                  price   R-squared:                       0.929\n",
      "Model:                            OLS   Adj. R-squared:                  0.923\n",
      "Method:                 Least Squares   F-statistic:                     172.3\n",
      "Date:                Tue, 12 May 2020   Prob (F-statistic):           1.21e-70\n",
      "Time:                        17:57:52   Log-Likelihood:                 205.92\n",
      "No. Observations:                 143   AIC:                            -389.8\n",
      "Df Residuals:                     132   BIC:                            -357.2\n",
      "Df Model:                          10                                         \n",
      "Covariance Type:            nonrobust                                         \n",
      "==============================================================================\n",
      "                 coef    std err          t      P>|t|      [0.025      0.975]\n",
      "------------------------------------------------------------------------------\n",
      "const         -0.1028      0.017     -5.968      0.000      -0.137      -0.069\n",
      "carwidth       0.2481      0.061      4.040      0.000       0.127       0.370\n",
      "curbweight     0.2955      0.068      4.315      0.000       0.160       0.431\n",
      "horsepower     0.3154      0.060      5.223      0.000       0.196       0.435\n",
      "hardtop       -0.0174      0.043     -0.404      0.687      -0.103       0.068\n",
      "hatchback     -0.0270      0.012     -2.235      0.027      -0.051      -0.003\n",
      "wagon         -0.0426      0.017     -2.562      0.012      -0.076      -0.010\n",
      "rear           0.2200      0.078      2.807      0.006       0.065       0.375\n",
      "dohcv         -0.1703      0.073     -2.320      0.022      -0.316      -0.025\n",
      "three          0.1308      0.062      2.115      0.036       0.008       0.253\n",
      "High           0.2475      0.020     12.249      0.000       0.208       0.288\n",
      "==============================================================================\n",
      "Omnibus:                       51.696   Durbin-Watson:                   1.870\n",
      "Prob(Omnibus):                  0.000   Jarque-Bera (JB):              195.122\n",
      "Skew:                           1.283   Prob(JB):                     4.26e-43\n",
      "Kurtosis:                       8.115   Cond. No.                         26.6\n",
      "==============================================================================\n",
      "\n",
      "Warnings:\n",
      "[1] Standard Errors assume that the covariance matrix of the errors is correctly specified.\n"
     ]
    }
   ],
   "source": [
    "X_train_new = buildModel(X_train_rfe,y_train)"
   ]
  },
  {
   "cell_type": "code",
   "execution_count": 23,
   "metadata": {},
   "outputs": [],
   "source": [
    "X_train_new = X_train_new.drop(['hardtop'], axis = 1)"
   ]
  },
  {
   "cell_type": "markdown",
   "metadata": {},
   "source": [
    "### 모델 2"
   ]
  },
  {
   "cell_type": "code",
   "execution_count": 24,
   "metadata": {},
   "outputs": [
    {
     "name": "stdout",
     "output_type": "stream",
     "text": [
      "                            OLS Regression Results                            \n",
      "==============================================================================\n",
      "Dep. Variable:                  price   R-squared:                       0.929\n",
      "Model:                            OLS   Adj. R-squared:                  0.924\n",
      "Method:                 Least Squares   F-statistic:                     192.7\n",
      "Date:                Tue, 12 May 2020   Prob (F-statistic):           9.14e-72\n",
      "Time:                        17:57:52   Log-Likelihood:                 205.83\n",
      "No. Observations:                 143   AIC:                            -391.7\n",
      "Df Residuals:                     133   BIC:                            -362.0\n",
      "Df Model:                           9                                         \n",
      "Covariance Type:            nonrobust                                         \n",
      "==============================================================================\n",
      "                 coef    std err          t      P>|t|      [0.025      0.975]\n",
      "------------------------------------------------------------------------------\n",
      "const         -0.1039      0.017     -6.112      0.000      -0.137      -0.070\n",
      "carwidth       0.2498      0.061      4.090      0.000       0.129       0.371\n",
      "curbweight     0.2949      0.068      4.322      0.000       0.160       0.430\n",
      "horsepower     0.3148      0.060      5.232      0.000       0.196       0.434\n",
      "hatchback     -0.0264      0.012     -2.209      0.029      -0.050      -0.003\n",
      "wagon         -0.0420      0.017     -2.545      0.012      -0.075      -0.009\n",
      "rear           0.2032      0.066      3.065      0.003       0.072       0.334\n",
      "dohcv         -0.1710      0.073     -2.338      0.021      -0.316      -0.026\n",
      "three          0.1312      0.062      2.128      0.035       0.009       0.253\n",
      "High           0.2479      0.020     12.317      0.000       0.208       0.288\n",
      "==============================================================================\n",
      "Omnibus:                       51.887   Durbin-Watson:                   1.859\n",
      "Prob(Omnibus):                  0.000   Jarque-Bera (JB):              196.340\n",
      "Skew:                           1.288   Prob(JB):                     2.32e-43\n",
      "Kurtosis:                       8.130   Cond. No.                         26.4\n",
      "==============================================================================\n",
      "\n",
      "Warnings:\n",
      "[1] Standard Errors assume that the covariance matrix of the errors is correctly specified.\n"
     ]
    }
   ],
   "source": [
    "X_train_new = buildModel(X_train_new,y_train)"
   ]
  },
  {
   "cell_type": "code",
   "execution_count": 25,
   "metadata": {},
   "outputs": [
    {
     "data": {
      "text/html": [
       "<div>\n",
       "<style scoped>\n",
       "    .dataframe tbody tr th:only-of-type {\n",
       "        vertical-align: middle;\n",
       "    }\n",
       "\n",
       "    .dataframe tbody tr th {\n",
       "        vertical-align: top;\n",
       "    }\n",
       "\n",
       "    .dataframe thead th {\n",
       "        text-align: right;\n",
       "    }\n",
       "</style>\n",
       "<table border=\"1\" class=\"dataframe\">\n",
       "  <thead>\n",
       "    <tr style=\"text-align: right;\">\n",
       "      <th></th>\n",
       "      <th>Features</th>\n",
       "      <th>VIF</th>\n",
       "    </tr>\n",
       "  </thead>\n",
       "  <tbody>\n",
       "    <tr>\n",
       "      <th>1</th>\n",
       "      <td>curbweight</td>\n",
       "      <td>39.51</td>\n",
       "    </tr>\n",
       "    <tr>\n",
       "      <th>0</th>\n",
       "      <td>carwidth</td>\n",
       "      <td>24.96</td>\n",
       "    </tr>\n",
       "    <tr>\n",
       "      <th>2</th>\n",
       "      <td>horsepower</td>\n",
       "      <td>11.50</td>\n",
       "    </tr>\n",
       "    <tr>\n",
       "      <th>8</th>\n",
       "      <td>High</td>\n",
       "      <td>1.87</td>\n",
       "    </tr>\n",
       "    <tr>\n",
       "      <th>3</th>\n",
       "      <td>hatchback</td>\n",
       "      <td>1.63</td>\n",
       "    </tr>\n",
       "    <tr>\n",
       "      <th>6</th>\n",
       "      <td>dohcv</td>\n",
       "      <td>1.47</td>\n",
       "    </tr>\n",
       "    <tr>\n",
       "      <th>4</th>\n",
       "      <td>wagon</td>\n",
       "      <td>1.41</td>\n",
       "    </tr>\n",
       "    <tr>\n",
       "      <th>5</th>\n",
       "      <td>rear</td>\n",
       "      <td>1.20</td>\n",
       "    </tr>\n",
       "    <tr>\n",
       "      <th>7</th>\n",
       "      <td>three</td>\n",
       "      <td>1.03</td>\n",
       "    </tr>\n",
       "  </tbody>\n",
       "</table>\n",
       "</div>"
      ],
      "text/plain": [
       "     Features    VIF\n",
       "1  curbweight  39.51\n",
       "0    carwidth  24.96\n",
       "2  horsepower  11.50\n",
       "8        High   1.87\n",
       "3   hatchback   1.63\n",
       "6       dohcv   1.47\n",
       "4       wagon   1.41\n",
       "5        rear   1.20\n",
       "7       three   1.03"
      ]
     },
     "execution_count": 25,
     "metadata": {},
     "output_type": "execute_result"
    }
   ],
   "source": [
    "vif_df = X_train_new.drop(['const'], axis = 1)\n",
    "checkVIF(vif_df)"
   ]
  },
  {
   "cell_type": "code",
   "execution_count": 26,
   "metadata": {},
   "outputs": [],
   "source": [
    "X_train_new = X_train_new.drop(['curbweight'], axis = 1)"
   ]
  },
  {
   "cell_type": "markdown",
   "metadata": {},
   "source": [
    "### 모델 3"
   ]
  },
  {
   "cell_type": "code",
   "execution_count": 27,
   "metadata": {},
   "outputs": [
    {
     "name": "stdout",
     "output_type": "stream",
     "text": [
      "                            OLS Regression Results                            \n",
      "==============================================================================\n",
      "Dep. Variable:                  price   R-squared:                       0.919\n",
      "Model:                            OLS   Adj. R-squared:                  0.914\n",
      "Method:                 Least Squares   F-statistic:                     189.4\n",
      "Date:                Tue, 12 May 2020   Prob (F-statistic):           3.87e-69\n",
      "Time:                        17:57:52   Log-Likelihood:                 196.43\n",
      "No. Observations:                 143   AIC:                            -374.9\n",
      "Df Residuals:                     134   BIC:                            -348.2\n",
      "Df Model:                           8                                         \n",
      "Covariance Type:            nonrobust                                         \n",
      "==============================================================================\n",
      "                 coef    std err          t      P>|t|      [0.025      0.975]\n",
      "------------------------------------------------------------------------------\n",
      "const         -0.1082      0.018     -5.993      0.000      -0.144      -0.072\n",
      "carwidth       0.4427      0.044      9.972      0.000       0.355       0.530\n",
      "horsepower     0.4664      0.052      8.968      0.000       0.364       0.569\n",
      "hatchback     -0.0367      0.012     -2.947      0.004      -0.061      -0.012\n",
      "wagon         -0.0167      0.016     -1.015      0.312      -0.049       0.016\n",
      "rear           0.1559      0.070      2.241      0.027       0.018       0.293\n",
      "dohcv         -0.3067      0.070     -4.361      0.000      -0.446      -0.168\n",
      "three          0.1458      0.065      2.226      0.028       0.016       0.275\n",
      "High           0.2686      0.021     12.912      0.000       0.227       0.310\n",
      "==============================================================================\n",
      "Omnibus:                       42.988   Durbin-Watson:                   1.981\n",
      "Prob(Omnibus):                  0.000   Jarque-Bera (JB):              123.531\n",
      "Skew:                           1.148   Prob(JB):                     1.50e-27\n",
      "Kurtosis:                       6.932   Cond. No.                         18.3\n",
      "==============================================================================\n",
      "\n",
      "Warnings:\n",
      "[1] Standard Errors assume that the covariance matrix of the errors is correctly specified.\n"
     ]
    }
   ],
   "source": [
    "X_train_new = buildModel(X_train_new,y_train)"
   ]
  },
  {
   "cell_type": "code",
   "execution_count": 28,
   "metadata": {},
   "outputs": [],
   "source": [
    "X_train_new = X_train_new.drop(['wagon'], axis = 1)"
   ]
  },
  {
   "cell_type": "markdown",
   "metadata": {},
   "source": [
    "### 모델 4"
   ]
  },
  {
   "cell_type": "code",
   "execution_count": 29,
   "metadata": {},
   "outputs": [
    {
     "name": "stdout",
     "output_type": "stream",
     "text": [
      "                            OLS Regression Results                            \n",
      "==============================================================================\n",
      "Dep. Variable:                  price   R-squared:                       0.918\n",
      "Model:                            OLS   Adj. R-squared:                  0.914\n",
      "Method:                 Least Squares   F-statistic:                     216.3\n",
      "Date:                Tue, 12 May 2020   Prob (F-statistic):           4.22e-70\n",
      "Time:                        17:57:52   Log-Likelihood:                 195.88\n",
      "No. Observations:                 143   AIC:                            -375.8\n",
      "Df Residuals:                     135   BIC:                            -352.1\n",
      "Df Model:                           7                                         \n",
      "Covariance Type:            nonrobust                                         \n",
      "==============================================================================\n",
      "                 coef    std err          t      P>|t|      [0.025      0.975]\n",
      "------------------------------------------------------------------------------\n",
      "const         -0.1117      0.018     -6.308      0.000      -0.147      -0.077\n",
      "carwidth       0.4417      0.044      9.952      0.000       0.354       0.530\n",
      "horsepower     0.4675      0.052      8.990      0.000       0.365       0.570\n",
      "hatchback     -0.0331      0.012     -2.772      0.006      -0.057      -0.009\n",
      "rear           0.1567      0.070      2.253      0.026       0.019       0.294\n",
      "dohcv         -0.3093      0.070     -4.401      0.000      -0.448      -0.170\n",
      "three          0.1457      0.065      2.225      0.028       0.016       0.275\n",
      "High           0.2710      0.021     13.111      0.000       0.230       0.312\n",
      "==============================================================================\n",
      "Omnibus:                       44.989   Durbin-Watson:                   1.986\n",
      "Prob(Omnibus):                  0.000   Jarque-Bera (JB):              131.488\n",
      "Skew:                           1.199   Prob(JB):                     2.80e-29\n",
      "Kurtosis:                       7.039   Cond. No.                         18.2\n",
      "==============================================================================\n",
      "\n",
      "Warnings:\n",
      "[1] Standard Errors assume that the covariance matrix of the errors is correctly specified.\n"
     ]
    }
   ],
   "source": [
    "X_train_new = buildModel(X_train_new,y_train)"
   ]
  },
  {
   "cell_type": "code",
   "execution_count": 30,
   "metadata": {},
   "outputs": [
    {
     "data": {
      "text/html": [
       "<div>\n",
       "<style scoped>\n",
       "    .dataframe tbody tr th:only-of-type {\n",
       "        vertical-align: middle;\n",
       "    }\n",
       "\n",
       "    .dataframe tbody tr th {\n",
       "        vertical-align: top;\n",
       "    }\n",
       "\n",
       "    .dataframe thead th {\n",
       "        text-align: right;\n",
       "    }\n",
       "</style>\n",
       "<table border=\"1\" class=\"dataframe\">\n",
       "  <thead>\n",
       "    <tr style=\"text-align: right;\">\n",
       "      <th></th>\n",
       "      <th>Features</th>\n",
       "      <th>VIF</th>\n",
       "    </tr>\n",
       "  </thead>\n",
       "  <tbody>\n",
       "    <tr>\n",
       "      <th>1</th>\n",
       "      <td>horsepower</td>\n",
       "      <td>7.51</td>\n",
       "    </tr>\n",
       "    <tr>\n",
       "      <th>0</th>\n",
       "      <td>carwidth</td>\n",
       "      <td>6.29</td>\n",
       "    </tr>\n",
       "    <tr>\n",
       "      <th>6</th>\n",
       "      <td>High</td>\n",
       "      <td>1.70</td>\n",
       "    </tr>\n",
       "    <tr>\n",
       "      <th>2</th>\n",
       "      <td>hatchback</td>\n",
       "      <td>1.45</td>\n",
       "    </tr>\n",
       "    <tr>\n",
       "      <th>4</th>\n",
       "      <td>dohcv</td>\n",
       "      <td>1.20</td>\n",
       "    </tr>\n",
       "    <tr>\n",
       "      <th>3</th>\n",
       "      <td>rear</td>\n",
       "      <td>1.17</td>\n",
       "    </tr>\n",
       "    <tr>\n",
       "      <th>5</th>\n",
       "      <td>three</td>\n",
       "      <td>1.03</td>\n",
       "    </tr>\n",
       "  </tbody>\n",
       "</table>\n",
       "</div>"
      ],
      "text/plain": [
       "     Features   VIF\n",
       "1  horsepower  7.51\n",
       "0    carwidth  6.29\n",
       "6        High  1.70\n",
       "2   hatchback  1.45\n",
       "4       dohcv  1.20\n",
       "3        rear  1.17\n",
       "5       three  1.03"
      ]
     },
     "execution_count": 30,
     "metadata": {},
     "output_type": "execute_result"
    }
   ],
   "source": [
    "vif_df = X_train_new.drop(['const'], axis = 1)\n",
    "checkVIF(vif_df)"
   ]
  },
  {
   "cell_type": "code",
   "execution_count": 31,
   "metadata": {},
   "outputs": [],
   "source": [
    "X_train_new = X_train_new.drop(['horsepower'], axis = 1)"
   ]
  },
  {
   "cell_type": "markdown",
   "metadata": {},
   "source": [
    "### 모델 5"
   ]
  },
  {
   "cell_type": "code",
   "execution_count": 32,
   "metadata": {},
   "outputs": [
    {
     "name": "stdout",
     "output_type": "stream",
     "text": [
      "                            OLS Regression Results                            \n",
      "==============================================================================\n",
      "Dep. Variable:                  price   R-squared:                       0.869\n",
      "Model:                            OLS   Adj. R-squared:                  0.863\n",
      "Method:                 Least Squares   F-statistic:                     150.5\n",
      "Date:                Tue, 12 May 2020   Prob (F-statistic):           1.63e-57\n",
      "Time:                        17:57:52   Log-Likelihood:                 162.34\n",
      "No. Observations:                 143   AIC:                            -310.7\n",
      "Df Residuals:                     136   BIC:                            -289.9\n",
      "Df Model:                           6                                         \n",
      "Covariance Type:            nonrobust                                         \n",
      "==============================================================================\n",
      "                 coef    std err          t      P>|t|      [0.025      0.975]\n",
      "------------------------------------------------------------------------------\n",
      "const         -0.1306      0.022     -5.894      0.000      -0.174      -0.087\n",
      "carwidth       0.6807      0.045     15.203      0.000       0.592       0.769\n",
      "hatchback     -0.0141      0.015     -0.951      0.343      -0.043       0.015\n",
      "rear           0.3438      0.084      4.111      0.000       0.178       0.509\n",
      "dohcv         -0.1289      0.085     -1.519      0.131      -0.297       0.039\n",
      "three          0.1455      0.082      1.764      0.080      -0.018       0.309\n",
      "High           0.3188      0.025     12.674      0.000       0.269       0.369\n",
      "==============================================================================\n",
      "Omnibus:                       35.215   Durbin-Watson:                   1.902\n",
      "Prob(Omnibus):                  0.000   Jarque-Bera (JB):               92.142\n",
      "Skew:                           0.961   Prob(JB):                     9.81e-21\n",
      "Kurtosis:                       6.431   Cond. No.                         15.2\n",
      "==============================================================================\n",
      "\n",
      "Warnings:\n",
      "[1] Standard Errors assume that the covariance matrix of the errors is correctly specified.\n"
     ]
    }
   ],
   "source": [
    "X_train_new = buildModel(X_train_new,y_train)"
   ]
  },
  {
   "cell_type": "code",
   "execution_count": 33,
   "metadata": {},
   "outputs": [],
   "source": [
    "X_train_new = X_train_new.drop(['hatchback'], axis = 1)"
   ]
  },
  {
   "cell_type": "markdown",
   "metadata": {},
   "source": [
    "### 모델 6"
   ]
  },
  {
   "cell_type": "code",
   "execution_count": 34,
   "metadata": {},
   "outputs": [
    {
     "name": "stdout",
     "output_type": "stream",
     "text": [
      "                            OLS Regression Results                            \n",
      "==============================================================================\n",
      "Dep. Variable:                  price   R-squared:                       0.868\n",
      "Model:                            OLS   Adj. R-squared:                  0.863\n",
      "Method:                 Least Squares   F-statistic:                     180.6\n",
      "Date:                Tue, 12 May 2020   Prob (F-statistic):           1.80e-58\n",
      "Time:                        17:57:52   Log-Likelihood:                 161.87\n",
      "No. Observations:                 143   AIC:                            -311.7\n",
      "Df Residuals:                     137   BIC:                            -294.0\n",
      "Df Model:                           5                                         \n",
      "Covariance Type:            nonrobust                                         \n",
      "==============================================================================\n",
      "                 coef    std err          t      P>|t|      [0.025      0.975]\n",
      "------------------------------------------------------------------------------\n",
      "const         -0.1390      0.020     -6.843      0.000      -0.179      -0.099\n",
      "carwidth       0.6882      0.044     15.618      0.000       0.601       0.775\n",
      "rear           0.3471      0.084      4.156      0.000       0.182       0.512\n",
      "dohcv         -0.1441      0.083     -1.730      0.086      -0.309       0.021\n",
      "three          0.1399      0.082      1.701      0.091      -0.023       0.303\n",
      "High           0.3210      0.025     12.815      0.000       0.271       0.370\n",
      "==============================================================================\n",
      "Omnibus:                       36.222   Durbin-Watson:                   1.897\n",
      "Prob(Omnibus):                  0.000   Jarque-Bera (JB):               95.966\n",
      "Skew:                           0.985   Prob(JB):                     1.45e-21\n",
      "Kurtosis:                       6.497   Cond. No.                         14.4\n",
      "==============================================================================\n",
      "\n",
      "Warnings:\n",
      "[1] Standard Errors assume that the covariance matrix of the errors is correctly specified.\n"
     ]
    }
   ],
   "source": [
    "X_train_new = buildModel(X_train_new,y_train)"
   ]
  },
  {
   "cell_type": "code",
   "execution_count": 35,
   "metadata": {},
   "outputs": [],
   "source": [
    "X_train_new = X_train_new.drop(['three'], axis = 1)"
   ]
  },
  {
   "cell_type": "markdown",
   "metadata": {},
   "source": [
    "### 모델 7"
   ]
  },
  {
   "cell_type": "code",
   "execution_count": 36,
   "metadata": {},
   "outputs": [
    {
     "name": "stdout",
     "output_type": "stream",
     "text": [
      "                            OLS Regression Results                            \n",
      "==============================================================================\n",
      "Dep. Variable:                  price   R-squared:                       0.865\n",
      "Model:                            OLS   Adj. R-squared:                  0.862\n",
      "Method:                 Least Squares   F-statistic:                     221.9\n",
      "Date:                Tue, 12 May 2020   Prob (F-statistic):           4.71e-59\n",
      "Time:                        17:57:52   Log-Likelihood:                 160.37\n",
      "No. Observations:                 143   AIC:                            -310.7\n",
      "Df Residuals:                     138   BIC:                            -295.9\n",
      "Df Model:                           4                                         \n",
      "Covariance Type:            nonrobust                                         \n",
      "==============================================================================\n",
      "                 coef    std err          t      P>|t|      [0.025      0.975]\n",
      "------------------------------------------------------------------------------\n",
      "const         -0.1304      0.020     -6.583      0.000      -0.170      -0.091\n",
      "carwidth       0.6709      0.043     15.542      0.000       0.586       0.756\n",
      "rear           0.3416      0.084      4.065      0.000       0.175       0.508\n",
      "dohcv         -0.1391      0.084     -1.660      0.099      -0.305       0.027\n",
      "High           0.3248      0.025     12.931      0.000       0.275       0.374\n",
      "==============================================================================\n",
      "Omnibus:                       34.696   Durbin-Watson:                   1.891\n",
      "Prob(Omnibus):                  0.000   Jarque-Bera (JB):               83.369\n",
      "Skew:                           0.981   Prob(JB):                     7.88e-19\n",
      "Kurtosis:                       6.184   Cond. No.                         14.2\n",
      "==============================================================================\n",
      "\n",
      "Warnings:\n",
      "[1] Standard Errors assume that the covariance matrix of the errors is correctly specified.\n"
     ]
    }
   ],
   "source": [
    "X_train_new = buildModel(X_train_new,y_train)"
   ]
  },
  {
   "cell_type": "code",
   "execution_count": 37,
   "metadata": {},
   "outputs": [],
   "source": [
    "X_train_new = X_train_new.drop(['dohcv'], axis = 1)"
   ]
  },
  {
   "cell_type": "markdown",
   "metadata": {},
   "source": [
    "### 모델 8"
   ]
  },
  {
   "cell_type": "code",
   "execution_count": 38,
   "metadata": {},
   "outputs": [
    {
     "name": "stdout",
     "output_type": "stream",
     "text": [
      "                            OLS Regression Results                            \n",
      "==============================================================================\n",
      "Dep. Variable:                  price   R-squared:                       0.863\n",
      "Model:                            OLS   Adj. R-squared:                  0.860\n",
      "Method:                 Least Squares   F-statistic:                     291.3\n",
      "Date:                Tue, 12 May 2020   Prob (F-statistic):           9.90e-60\n",
      "Time:                        17:57:52   Log-Likelihood:                 158.96\n",
      "No. Observations:                 143   AIC:                            -309.9\n",
      "Df Residuals:                     139   BIC:                            -298.1\n",
      "Df Model:                           3                                         \n",
      "Covariance Type:            nonrobust                                         \n",
      "==============================================================================\n",
      "                 coef    std err          t      P>|t|      [0.025      0.975]\n",
      "------------------------------------------------------------------------------\n",
      "const         -0.1259      0.020     -6.375      0.000      -0.165      -0.087\n",
      "carwidth       0.6603      0.043     15.370      0.000       0.575       0.745\n",
      "rear           0.3467      0.085      4.103      0.000       0.180       0.514\n",
      "High           0.3193      0.025     12.744      0.000       0.270       0.369\n",
      "==============================================================================\n",
      "Omnibus:                       36.453   Durbin-Watson:                   1.845\n",
      "Prob(Omnibus):                  0.000   Jarque-Bera (JB):               87.036\n",
      "Skew:                           1.036   Prob(JB):                     1.26e-19\n",
      "Kurtosis:                       6.211   Cond. No.                         14.1\n",
      "==============================================================================\n",
      "\n",
      "Warnings:\n",
      "[1] Standard Errors assume that the covariance matrix of the errors is correctly specified.\n"
     ]
    }
   ],
   "source": [
    "X_train_new = buildModel(X_train_new,y_train)"
   ]
  },
  {
   "cell_type": "code",
   "execution_count": 39,
   "metadata": {},
   "outputs": [
    {
     "data": {
      "text/html": [
       "<div>\n",
       "<style scoped>\n",
       "    .dataframe tbody tr th:only-of-type {\n",
       "        vertical-align: middle;\n",
       "    }\n",
       "\n",
       "    .dataframe tbody tr th {\n",
       "        vertical-align: top;\n",
       "    }\n",
       "\n",
       "    .dataframe thead th {\n",
       "        text-align: right;\n",
       "    }\n",
       "</style>\n",
       "<table border=\"1\" class=\"dataframe\">\n",
       "  <thead>\n",
       "    <tr style=\"text-align: right;\">\n",
       "      <th></th>\n",
       "      <th>Features</th>\n",
       "      <th>VIF</th>\n",
       "    </tr>\n",
       "  </thead>\n",
       "  <tbody>\n",
       "    <tr>\n",
       "      <th>2</th>\n",
       "      <td>High</td>\n",
       "      <td>1.40</td>\n",
       "    </tr>\n",
       "    <tr>\n",
       "      <th>0</th>\n",
       "      <td>carwidth</td>\n",
       "      <td>1.33</td>\n",
       "    </tr>\n",
       "    <tr>\n",
       "      <th>1</th>\n",
       "      <td>rear</td>\n",
       "      <td>1.07</td>\n",
       "    </tr>\n",
       "  </tbody>\n",
       "</table>\n",
       "</div>"
      ],
      "text/plain": [
       "   Features   VIF\n",
       "2      High  1.40\n",
       "0  carwidth  1.33\n",
       "1      rear  1.07"
      ]
     },
     "execution_count": 39,
     "metadata": {},
     "output_type": "execute_result"
    }
   ],
   "source": [
    "vif_df = X_train_new.drop(['const'], axis = 1)\n",
    "checkVIF(vif_df)"
   ]
  },
  {
   "cell_type": "markdown",
   "metadata": {},
   "source": [
    "### 모델 분석"
   ]
  },
  {
   "cell_type": "code",
   "execution_count": 40,
   "metadata": {},
   "outputs": [
    {
     "data": {
      "text/plain": [
       "Text(0.5, 0, 'Errors')"
      ]
     },
     "execution_count": 40,
     "metadata": {},
     "output_type": "execute_result"
    },
    {
     "data": {
      "image/png": "[encoded data removed]",
      "text/plain": [
       "<Figure size 432x288 with 1 Axes>"
      ]
     },
     "metadata": {
      "needs_background": "light"
     },
     "output_type": "display_data"
    }
   ],
   "source": [
    "lm = sm.OLS(y_train,X_train_new).fit()\n",
    "y_train_price = lm.predict(X_train_new)\n",
    "\n",
    "# Plot the histogram of the error terms\n",
    "fig = plt.figure()\n",
    "sns.distplot((y_train - y_train_price), bins = 20)\n",
    "fig.suptitle('Error Terms', fontsize = 20)                  \n",
    "plt.xlabel('Errors', fontsize = 18) "
   ]
  },
  {
   "cell_type": "markdown",
   "metadata": {},
   "source": [
    "### 모델 예측 및 평가"
   ]
  },
  {
   "cell_type": "code",
   "execution_count": 41,
   "metadata": {},
   "outputs": [],
   "source": [
    "# Scaling the test data\n",
    "num_vars = ['wheelbase', 'carlength', 'carwidth', 'carheight', 'curbweight', 'enginesize', 'boreratio', 'stroke', 'compressionratio',\n",
    "            'horsepower', 'peakrpm', 'citympg', 'highwaympg', 'fueleconomy', 'strokeratio', 'price']\n",
    "df_test[num_vars] = scaler.fit_transform(df_test[num_vars])\n",
    "\n",
    "#Dividing into X and y\n",
    "y_test = df_test.pop('price')\n",
    "X_test = df_test\n",
    "\n",
    "# Now let's use our model to make predictions.\n",
    "X_train_new = X_train_new.drop('const',axis=1)\n",
    "# Creating X_test_new dataframe by dropping variables from X_test\n",
    "X_test_new = X_test[X_train_new.columns]\n",
    "\n",
    "# Adding a constant variable \n",
    "X_test_new = sm.add_constant(X_test_new)\n",
    "\n",
    "# Making predictions\n",
    "y_pred = lm.predict(X_test_new)\n"
   ]
  },
  {
   "cell_type": "code",
   "execution_count": 42,
   "metadata": {},
   "outputs": [
    {
     "data": {
      "text/plain": [
       "0.8335910335897068"
      ]
     },
     "execution_count": 42,
     "metadata": {},
     "output_type": "execute_result"
    }
   ],
   "source": [
    "# test 데이터 평가\n",
    "from sklearn.metrics import r2_score \n",
    "\n",
    "r2_score(y_test, y_pred)"
   ]
  },
  {
   "cell_type": "code",
   "execution_count": 43,
   "metadata": {},
   "outputs": [
    {
     "name": "stdout",
     "output_type": "stream",
     "text": [
      "                            OLS Regression Results                            \n",
      "==============================================================================\n",
      "Dep. Variable:                  price   R-squared:                       0.863\n",
      "Model:                            OLS   Adj. R-squared:                  0.860\n",
      "Method:                 Least Squares   F-statistic:                     291.3\n",
      "Date:                Tue, 12 May 2020   Prob (F-statistic):           9.90e-60\n",
      "Time:                        17:57:54   Log-Likelihood:                 158.96\n",
      "No. Observations:                 143   AIC:                            -309.9\n",
      "Df Residuals:                     139   BIC:                            -298.1\n",
      "Df Model:                           3                                         \n",
      "Covariance Type:            nonrobust                                         \n",
      "==============================================================================\n",
      "                 coef    std err          t      P>|t|      [0.025      0.975]\n",
      "------------------------------------------------------------------------------\n",
      "const         -0.1259      0.020     -6.375      0.000      -0.165      -0.087\n",
      "carwidth       0.6603      0.043     15.370      0.000       0.575       0.745\n",
      "rear           0.3467      0.085      4.103      0.000       0.180       0.514\n",
      "High           0.3193      0.025     12.744      0.000       0.270       0.369\n",
      "==============================================================================\n",
      "Omnibus:                       36.453   Durbin-Watson:                   1.845\n",
      "Prob(Omnibus):                  0.000   Jarque-Bera (JB):               87.036\n",
      "Skew:                           1.036   Prob(JB):                     1.26e-19\n",
      "Kurtosis:                       6.211   Cond. No.                         14.1\n",
      "==============================================================================\n",
      "\n",
      "Warnings:\n",
      "[1] Standard Errors assume that the covariance matrix of the errors is correctly specified.\n"
     ]
    }
   ],
   "source": [
    "print(lm.summary())"
   ]
  },
  {
   "cell_type": "code",
   "execution_count": 44,
   "metadata": {},
   "outputs": [
    {
     "data": {
      "text/plain": [
       "Text(0, 0.5, 'y_pred')"
      ]
     },
     "execution_count": 44,
     "metadata": {},
     "output_type": "execute_result"
    },
    {
     "data": {
      "image/png": "[encoded data removed]",
      "text/plain": [
       "<Figure size 432x288 with 1 Axes>"
      ]
     },
     "metadata": {
      "needs_background": "light"
     },
     "output_type": "display_data"
    }
   ],
   "source": [
    "fig = plt.figure()\n",
    "plt.scatter(y_test,y_pred)\n",
    "fig.suptitle('y_test vs y_pred', fontsize=20)              \n",
    "plt.xlabel('y_test', fontsize=18)                          \n",
    "plt.ylabel('y_pred', fontsize=16)  "
   ]
  }
 ],
 "metadata": {
  "kernelspec": {
   "display_name": "Python 3",
   "language": "python",
   "name": "python3"
  },
  "language_info": {
   "codemirror_mode": {
    "name": "ipython",
    "version": 3
   },
   "file_extension": ".py",
   "mimetype": "text/x-python",
   "name": "python",
   "nbconvert_exporter": "python",
   "pygments_lexer": "ipython3",
   "version": "3.7.3"
  }
 },
 "nbformat": 4,
 "nbformat_minor": 2
}
