{
 "cells": [
  {
   "cell_type": "markdown",
   "metadata": {},
   "source": [
    "## 온라인 학습활동 과제 16. Logistic Regression 연습"
   ]
  },
  {
   "cell_type": "markdown",
   "metadata": {},
   "source": [
    "### 20175327 이연희"
   ]
  },
  {
   "cell_type": "code",
   "execution_count": 1,
   "metadata": {},
   "outputs": [
    {
     "name": "stderr",
     "output_type": "stream",
     "text": [
      "D:\\python\\Anaconda3\\lib\\site-packages\\sklearn\\externals\\six.py:31: DeprecationWarning: The module is deprecated in version 0.21 and will be removed in version 0.23 since we've dropped support for Python 2.7. Please rely on the official version of six (https://pypi.org/project/six/).\n",
      "  \"(https://pypi.org/project/six/).\", DeprecationWarning)\n",
      "D:\\python\\Anaconda3\\lib\\site-packages\\sklearn\\externals\\joblib\\__init__.py:15: DeprecationWarning: sklearn.externals.joblib is deprecated in 0.21 and will be removed in 0.23. Please import this functionality directly from joblib, which can be installed with: pip install joblib. If this warning is raised when loading pickled models, you may need to re-serialize those models with scikit-learn 0.21+.\n",
      "  warnings.warn(msg, category=DeprecationWarning)\n"
     ]
    }
   ],
   "source": [
    "from sklearn.model_selection import train_test_split\n",
    "from sklearn import datasets as ds\n",
    "import numpy as np\n",
    "import pandas as pd\n",
    "import matplotlib.pyplot as plt\n",
    "import mglearn"
   ]
  },
  {
   "cell_type": "code",
   "execution_count": 2,
   "metadata": {},
   "outputs": [
    {
     "name": "stdout",
     "output_type": "stream",
     "text": [
      "데이터의 형태: (150, 4)\n",
      "특성 이름:\n",
      " ['sepal length (cm)', 'sepal width (cm)', 'petal length (cm)', 'petal width (cm)']\n",
      "데이터 설명:\n",
      " .. _iris_dataset:\n",
      "\n",
      "Iris plants dataset\n",
      "--------------------\n",
      "\n",
      "**Data Set Characteristics:**\n",
      "\n",
      "    :Number of Instances: 150 (50 in each of three classes)\n",
      "    :Number of Attributes: 4 numeric, predictive attributes and the class\n",
      "    :Attribute Information:\n",
      "        - sepal length in cm\n",
      "        - sepal width in cm\n",
      "        - petal length in cm\n",
      "        - petal width in cm\n",
      "        - class:\n",
      "                - Iris-Setosa\n",
      "                - Iris-Versicolour\n",
      "                - Iris-Virginica\n",
      "                \n",
      "    :Summary Statistics:\n",
      "\n",
      "    ============== ==== ==== ======= ===== ====================\n",
      "                    Min  Max   Mean    SD   Class Correlation\n",
      "    ============== ==== ==== ======= ===== ====================\n",
      "    sepal length:   4.3  7.9   5.84   0.83    0.7826\n",
      "    sepal width:    2.0  4.4   3.05   0.43   -0.4194\n",
      "    petal length:   1.0  6.9   3.76   1.76    0.9490  (high!)\n",
      "    petal width:    0.1  2.5   1.20   0.76    0.9565  (high!)\n",
      "    ============== ==== ==== ======= ===== ====================\n",
      "\n",
      "    :Missing Attribute Values: None\n",
      "    :Class Distribution: 33.3% for each of 3 classes.\n",
      "    :Creator: R.A. Fisher\n",
      "    :Donor: Michael Marshall (MARSHALL%PLU@io.arc.nasa.gov)\n",
      "    :Date: July, 1988\n",
      "\n",
      "The famous Iris database, first used by Sir R.A. Fisher. The dataset is taken\n",
      "from Fisher's paper. Note that it's the same as in R, but not as in the UCI\n",
      "Machine Learning Repository, which has two wrong data points.\n",
      "\n",
      "This is perhaps the best known database to be found in the\n",
      "pattern recognition literature.  Fisher's paper is a classic in the field and\n",
      "is referenced frequently to this day.  (See Duda & Hart, for example.)  The\n",
      "data set contains 3 classes of 50 instances each, where each class refers to a\n",
      "type of iris plant.  One class is linearly separable from the other 2; the\n",
      "latter are NOT linearly separable from each other.\n",
      "\n",
      ".. topic:: References\n",
      "\n",
      "   - Fisher, R.A. \"The use of multiple measurements in taxonomic problems\"\n",
      "     Annual Eugenics, 7, Part II, 179-188 (1936); also in \"Contributions to\n",
      "     Mathematical Statistics\" (John Wiley, NY, 1950).\n",
      "   - Duda, R.O., & Hart, P.E. (1973) Pattern Classification and Scene Analysis.\n",
      "     (Q327.D83) John Wiley & Sons.  ISBN 0-471-22361-1.  See page 218.\n",
      "   - Dasarathy, B.V. (1980) \"Nosing Around the Neighborhood: A New System\n",
      "     Structure and Classification Rule for Recognition in Partially Exposed\n",
      "     Environments\".  IEEE Transactions on Pattern Analysis and Machine\n",
      "     Intelligence, Vol. PAMI-2, No. 1, 67-71.\n",
      "   - Gates, G.W. (1972) \"The Reduced Nearest Neighbor Rule\".  IEEE Transactions\n",
      "     on Information Theory, May 1972, 431-433.\n",
      "   - See also: 1988 MLC Proceedings, 54-64.  Cheeseman et al\"s AUTOCLASS II\n",
      "     conceptual clustering system finds 3 classes in the data.\n",
      "   - Many, many more ...\n",
      "테스트 세트에 대한 예측값:\n",
      " [1 0 2 1 1 0 1 2 1 1 2 0 0 0 0 2 2 1 1 2 0 2 0 2 2 2 2 2 0 0 0 0 1 0 0 2 1\n",
      " 0 0 0 2 1 1 0 0 1 1 2 1 2]\n",
      "테스트 세트의 정확도: 0.96\n",
      "테스트 세트의 정확도: 0.96\n"
     ]
    }
   ],
   "source": [
    "# 1. Gaussian Naive Bayes 예 (강의자료 5쪽)\n",
    "\n",
    "iris=ds.load_iris()\n",
    "\n",
    "print(\"데이터의 형태:\",iris.data.shape)\n",
    "print(\"특성 이름:\\n\",iris.feature_names)\n",
    "print(\"데이터 설명:\\n\",iris.DESCR)\n",
    "\n",
    "X=iris.data\n",
    "y=iris.target\n",
    "\n",
    "X_train, X_test, y_train, y_test = train_test_split(X,y,test_size=0.33,random_state=42)\n",
    "\n",
    "from sklearn.naive_bayes import GaussianNB\n",
    "\n",
    "gnb=GaussianNB()\n",
    "\n",
    "gnbfit=gnb.fit(X_train, y_train)\n",
    "y_pred=gnbfit.predict(X_test)\n",
    "\n",
    "print(\"테스트 세트에 대한 예측값:\\n {}\".format(y_pred))\n",
    "print(\"테스트 세트의 정확도: {:.2f}\".format(np.mean(y_pred==y_test)))\n",
    "print(\"테스트 세트의 정확도: {:.2f}\".format(gnbfit.score(X_test, y_test)))\n"
   ]
  },
  {
   "cell_type": "code",
   "execution_count": 3,
   "metadata": {},
   "outputs": [
    {
     "data": {
      "text/plain": [
       "'X0 = '"
      ]
     },
     "metadata": {},
     "output_type": "display_data"
    },
    {
     "data": {
      "text/plain": [
       "array([[-0.56511345],\n",
       "       [ 1.81256131],\n",
       "       [-1.33619806],\n",
       "       [ 1.74890611],\n",
       "       [-0.19702637],\n",
       "       [-0.97174619],\n",
       "       [ 0.09145142],\n",
       "       [-0.81781175],\n",
       "       [ 1.02115611],\n",
       "       [-0.37608967],\n",
       "       [-0.63998141],\n",
       "       [ 1.09331425],\n",
       "       [-1.04567041],\n",
       "       [-1.82248917],\n",
       "       [ 0.66737508],\n",
       "       [-1.33802467],\n",
       "       [ 1.03973007],\n",
       "       [ 1.02861972],\n",
       "       [ 1.46827084],\n",
       "       [ 1.20747622],\n",
       "       [-1.60045596],\n",
       "       [-0.1215664 ],\n",
       "       [ 1.12325354],\n",
       "       [-1.21712319],\n",
       "       [ 0.6186367 ],\n",
       "       [ 1.46318811],\n",
       "       [ 1.68552793],\n",
       "       [ 0.36681905],\n",
       "       [ 0.68897352],\n",
       "       [ 0.15405526],\n",
       "       [ 1.14288962],\n",
       "       [-0.08399356],\n",
       "       [ 1.3275078 ],\n",
       "       [-2.22397948],\n",
       "       [-1.15725619],\n",
       "       [-0.97375549],\n",
       "       [-1.59369901],\n",
       "       [-0.827541  ],\n",
       "       [-0.97605292],\n",
       "       [ 1.51279225],\n",
       "       [ 0.4668358 ],\n",
       "       [ 0.89903364],\n",
       "       [-0.7953375 ],\n",
       "       [-0.58656328],\n",
       "       [-1.70642152],\n",
       "       [-0.97508192],\n",
       "       [ 0.6421675 ],\n",
       "       [-1.51023072],\n",
       "       [-0.40132266],\n",
       "       [-0.5657922 ],\n",
       "       [ 1.1056454 ],\n",
       "       [ 0.77950937],\n",
       "       [ 1.17691635],\n",
       "       [-1.51693555],\n",
       "       [ 1.55036554],\n",
       "       [-1.14336585],\n",
       "       [-0.68930413],\n",
       "       [ 1.25336383],\n",
       "       [ 0.89682787],\n",
       "       [-0.82754261],\n",
       "       [-1.57386341],\n",
       "       [ 0.08372829],\n",
       "       [ 1.02210971],\n",
       "       [ 1.1749706 ],\n",
       "       [ 1.11108368],\n",
       "       [-0.58366968],\n",
       "       [ 0.35396347],\n",
       "       [-0.91700612],\n",
       "       [ 2.19088642],\n",
       "       [ 1.01124106],\n",
       "       [-1.06784343],\n",
       "       [-1.62751549],\n",
       "       [ 2.17185369],\n",
       "       [-0.52514351],\n",
       "       [ 1.56217106],\n",
       "       [-1.69941147],\n",
       "       [-1.31501034],\n",
       "       [ 0.96787329],\n",
       "       [ 1.30811263],\n",
       "       [ 0.79619908],\n",
       "       [ 0.14291351],\n",
       "       [-0.62454299],\n",
       "       [-1.10212242],\n",
       "       [-1.57761523],\n",
       "       [ 0.54144162],\n",
       "       [-1.00485845],\n",
       "       [-0.74049573],\n",
       "       [ 0.70803893],\n",
       "       [ 1.16538622],\n",
       "       [ 1.30018156],\n",
       "       [ 0.5688084 ],\n",
       "       [ 0.44391173],\n",
       "       [-1.59560814],\n",
       "       [ 2.45832825],\n",
       "       [ 0.43366097],\n",
       "       [-0.77936232],\n",
       "       [-0.73532152],\n",
       "       [-0.71843573],\n",
       "       [-0.67887389],\n",
       "       [-0.15095042]])"
      ]
     },
     "metadata": {},
     "output_type": "display_data"
    },
    {
     "data": {
      "text/plain": [
       "'y = '"
      ]
     },
     "metadata": {},
     "output_type": "display_data"
    },
    {
     "data": {
      "text/plain": [
       "array([0, 1, 0, 1, 0, 0, 1, 0, 1, 0, 0, 1, 0, 0, 1, 0, 1, 1, 1, 1, 0, 0,\n",
       "       1, 0, 1, 1, 1, 1, 1, 0, 1, 1, 1, 0, 0, 0, 0, 0, 0, 1, 1, 1, 0, 0,\n",
       "       0, 0, 1, 1, 1, 0, 1, 1, 1, 0, 1, 0, 0, 1, 1, 0, 0, 0, 1, 1, 1, 0,\n",
       "       1, 0, 1, 1, 0, 0, 1, 0, 1, 0, 0, 1, 1, 1, 1, 0, 0, 0, 1, 0, 0, 1,\n",
       "       1, 1, 1, 1, 0, 1, 1, 0, 0, 0, 0, 0])"
      ]
     },
     "metadata": {},
     "output_type": "display_data"
    },
    {
     "name": "stderr",
     "output_type": "stream",
     "text": [
      "D:\\python\\Anaconda3\\lib\\site-packages\\sklearn\\linear_model\\logistic.py:432: FutureWarning: Default solver will be changed to 'lbfgs' in 0.22. Specify a solver to silence this warning.\n",
      "  FutureWarning)\n"
     ]
    },
    {
     "data": {
      "text/plain": [
       "array([[9.99812528e-01, 1.87471872e-04],\n",
       "       [9.99776527e-01, 2.23472974e-04],\n",
       "       [9.99733614e-01, 2.66385695e-04],\n",
       "       [9.99682464e-01, 3.17536177e-04],\n",
       "       [9.99621495e-01, 3.78504682e-04],\n",
       "       [9.99548826e-01, 4.51174157e-04],\n",
       "       [9.99462212e-01, 5.37788007e-04],\n",
       "       [9.99358981e-01, 6.41018828e-04],\n",
       "       [9.99235950e-01, 7.64050121e-04],\n",
       "       [9.99089327e-01, 9.10673397e-04],\n",
       "       [9.98914596e-01, 1.08540351e-03],\n",
       "       [9.98706384e-01, 1.29361553e-03],\n",
       "       [9.98458293e-01, 1.54170704e-03],\n",
       "       [9.98162710e-01, 1.83729038e-03],\n",
       "       [9.97810580e-01, 2.18942008e-03],\n",
       "       [9.97391138e-01, 2.60886153e-03],\n",
       "       [9.96891592e-01, 3.10840779e-03],\n",
       "       [9.96296748e-01, 3.70325230e-03],\n",
       "       [9.95588574e-01, 4.41142626e-03],\n",
       "       [9.94745690e-01, 5.25431032e-03],\n",
       "       [9.93742769e-01, 6.25723069e-03],\n",
       "       [9.92549850e-01, 7.45015048e-03],\n",
       "       [9.91131533e-01, 8.86846677e-03],\n",
       "       [9.89446077e-01, 1.05539228e-02],\n",
       "       [9.87444357e-01, 1.25556426e-02],\n",
       "       [9.85068709e-01, 1.49312913e-02],\n",
       "       [9.82251644e-01, 1.77483565e-02],\n",
       "       [9.78914464e-01, 2.10855365e-02],\n",
       "       [9.74965794e-01, 2.50342060e-02],\n",
       "       [9.70300096e-01, 2.96999042e-02],\n",
       "       [9.64796235e-01, 3.52037645e-02],\n",
       "       [9.58316240e-01, 4.16837600e-02],\n",
       "       [9.50704409e-01, 4.92955912e-02],\n",
       "       [9.41787024e-01, 5.82129765e-02],\n",
       "       [9.31372961e-01, 6.86270390e-02],\n",
       "       [9.19255593e-01, 8.07444069e-02],\n",
       "       [9.05216417e-01, 9.47835830e-02],\n",
       "       [8.89030894e-01, 1.10969106e-01],\n",
       "       [8.70476956e-01, 1.29523044e-01],\n",
       "       [8.49346508e-01, 1.50653492e-01],\n",
       "       [8.25460036e-01, 1.74539964e-01],\n",
       "       [7.98683980e-01, 2.01316020e-01],\n",
       "       [7.68949991e-01, 2.31050009e-01],\n",
       "       [7.36274473e-01, 2.63725527e-01],\n",
       "       [7.00776119e-01, 2.99223881e-01],\n",
       "       [6.62688615e-01, 3.37311385e-01],\n",
       "       [6.22365571e-01, 3.77634429e-01],\n",
       "       [5.80275237e-01, 4.19724763e-01],\n",
       "       [5.36983752e-01, 4.63016248e-01],\n",
       "       [4.93127436e-01, 5.06872564e-01],\n",
       "       [4.49376633e-01, 5.50623367e-01],\n",
       "       [4.06395284e-01, 5.93604716e-01],\n",
       "       [3.64801304e-01, 6.35198696e-01],\n",
       "       [3.25132693e-01, 6.74867307e-01],\n",
       "       [2.87823079e-01, 7.12176921e-01],\n",
       "       [2.53188591e-01, 7.46811409e-01],\n",
       "       [2.21425975e-01, 7.78574025e-01],\n",
       "       [1.92620262e-01, 8.07379738e-01],\n",
       "       [1.66759301e-01, 8.33240699e-01],\n",
       "       [1.43752208e-01, 8.56247792e-01],\n",
       "       [1.23449035e-01, 8.76550965e-01],\n",
       "       [1.05659574e-01, 8.94340426e-01],\n",
       "       [9.01699330e-02, 9.09830067e-01],\n",
       "       [7.67561778e-02, 9.23243822e-01],\n",
       "       [6.51948786e-02, 9.34805121e-01],\n",
       "       [5.52707343e-02, 9.44729266e-01],\n",
       "       [4.67816697e-02, 9.53218330e-01],\n",
       "       [3.95418730e-02, 9.60458127e-01],\n",
       "       [3.33832478e-02, 9.66616752e-01],\n",
       "       [2.81557063e-02, 9.71844294e-01],\n",
       "       [2.37266615e-02, 9.76273339e-01],\n",
       "       [1.99800057e-02, 9.80019994e-01],\n",
       "       [1.68147911e-02, 9.83185209e-01],\n",
       "       [1.41437703e-02, 9.85856230e-01],\n",
       "       [1.18919078e-02, 9.88108092e-01],\n",
       "       [9.99493468e-03, 9.90005065e-01],\n",
       "       [8.39799109e-03, 9.91602009e-01],\n",
       "       [7.05438151e-03, 9.92945618e-01],\n",
       "       [5.92445408e-03, 9.94075546e-01],\n",
       "       [4.97460475e-03, 9.95025395e-01],\n",
       "       [4.17640201e-03, 9.95823598e-01],\n",
       "       [3.50582404e-03, 9.96494176e-01],\n",
       "       [2.94259830e-03, 9.97057402e-01],\n",
       "       [2.46963295e-03, 9.97530367e-01],\n",
       "       [2.07252955e-03, 9.97927470e-01],\n",
       "       [1.73916687e-03, 9.98260833e-01],\n",
       "       [1.45934657e-03, 9.98540653e-01],\n",
       "       [1.22449225e-03, 9.98775508e-01],\n",
       "       [1.02739442e-03, 9.98972606e-01],\n",
       "       [8.61994653e-04, 9.99138005e-01],\n",
       "       [7.23203241e-04, 9.99276797e-01],\n",
       "       [6.06745330e-04, 9.99393255e-01],\n",
       "       [5.09031162e-04, 9.99490969e-01],\n",
       "       [4.27046788e-04, 9.99572953e-01],\n",
       "       [3.58262055e-04, 9.99641738e-01],\n",
       "       [3.00553196e-04, 9.99699447e-01],\n",
       "       [2.52137737e-04, 9.99747862e-01],\n",
       "       [2.11519769e-04, 9.99788480e-01],\n",
       "       [1.77443965e-04, 9.99822556e-01],\n",
       "       [1.48856951e-04, 9.99851143e-01]])"
      ]
     },
     "metadata": {},
     "output_type": "display_data"
    },
    {
     "data": {
      "text/plain": [
       "array([1.87471872e-04, 2.23472974e-04, 2.66385695e-04, 3.17536177e-04,\n",
       "       3.78504682e-04, 4.51174157e-04, 5.37788007e-04, 6.41018828e-04,\n",
       "       7.64050121e-04, 9.10673397e-04, 1.08540351e-03, 1.29361553e-03,\n",
       "       1.54170704e-03, 1.83729038e-03, 2.18942008e-03, 2.60886153e-03,\n",
       "       3.10840779e-03, 3.70325230e-03, 4.41142626e-03, 5.25431032e-03,\n",
       "       6.25723069e-03, 7.45015048e-03, 8.86846677e-03, 1.05539228e-02,\n",
       "       1.25556426e-02, 1.49312913e-02, 1.77483565e-02, 2.10855365e-02,\n",
       "       2.50342060e-02, 2.96999042e-02, 3.52037645e-02, 4.16837600e-02,\n",
       "       4.92955912e-02, 5.82129765e-02, 6.86270390e-02, 8.07444069e-02,\n",
       "       9.47835830e-02, 1.10969106e-01, 1.29523044e-01, 1.50653492e-01,\n",
       "       1.74539964e-01, 2.01316020e-01, 2.31050009e-01, 2.63725527e-01,\n",
       "       2.99223881e-01, 3.37311385e-01, 3.77634429e-01, 4.19724763e-01,\n",
       "       4.63016248e-01, 5.06872564e-01, 5.50623367e-01, 5.93604716e-01,\n",
       "       6.35198696e-01, 6.74867307e-01, 7.12176921e-01, 7.46811409e-01,\n",
       "       7.78574025e-01, 8.07379738e-01, 8.33240699e-01, 8.56247792e-01,\n",
       "       8.76550965e-01, 8.94340426e-01, 9.09830067e-01, 9.23243822e-01,\n",
       "       9.34805121e-01, 9.44729266e-01, 9.53218330e-01, 9.60458127e-01,\n",
       "       9.66616752e-01, 9.71844294e-01, 9.76273339e-01, 9.80019994e-01,\n",
       "       9.83185209e-01, 9.85856230e-01, 9.88108092e-01, 9.90005065e-01,\n",
       "       9.91602009e-01, 9.92945618e-01, 9.94075546e-01, 9.95025395e-01,\n",
       "       9.95823598e-01, 9.96494176e-01, 9.97057402e-01, 9.97530367e-01,\n",
       "       9.97927470e-01, 9.98260833e-01, 9.98540653e-01, 9.98775508e-01,\n",
       "       9.98972606e-01, 9.99138005e-01, 9.99276797e-01, 9.99393255e-01,\n",
       "       9.99490969e-01, 9.99572953e-01, 9.99641738e-01, 9.99699447e-01,\n",
       "       9.99747862e-01, 9.99788480e-01, 9.99822556e-01, 9.99851143e-01])"
      ]
     },
     "metadata": {},
     "output_type": "display_data"
    },
    {
     "data": {
      "image/png": "[encoded data removed]",
      "text/plain": [
       "<Figure size 432x288 with 2 Axes>"
      ]
     },
     "metadata": {
      "needs_background": "light"
     },
     "output_type": "display_data"
    }
   ],
   "source": [
    "# 2. Logistic Regression 예 (강의자료 7쪽)\n",
    "\n",
    "from sklearn.datasets import make_classification\n",
    "from sklearn.linear_model import LogisticRegression\n",
    "import matplotlib.pyplot as plt \n",
    "\n",
    "X0, y = make_classification(n_samples = 100, n_features = 1, n_redundant = 0,\n",
    "                           n_informative = 1, n_clusters_per_class = 1, random_state = 4)\n",
    "\n",
    "display(\"X0 = \",X0)\n",
    "display(\"y = \",y)\n",
    "\n",
    "model=LogisticRegression().fit(X0,y)\n",
    "\n",
    "xx=np.linspace(-3,3,100)\n",
    "\n",
    "XX=xx[:, np.newaxis]\n",
    "\n",
    "prob=model.predict_proba(XX)\n",
    "prob1=prob[:,1]\n",
    "display(prob)\n",
    "display(prob1)\n",
    "\n",
    "x_test=[[-0.2]]\n",
    "\n",
    "plt.subplot(211)\n",
    "\n",
    "plt.plot(xx, prob1)\n",
    "plt.scatter(X0, y, marker='o', c=y, s=100, edgecolor='k', linewidth=2)\n",
    "\n",
    "plt.scatter(x_test[0], model.predict_proba(x_test)[0][1:], marker='x', \n",
    "            s=500, c='r', lw=5)\n",
    "plt.xlim(-3, 3)\n",
    "plt.ylim(-.2, 1.2)\n",
    "plt.legend([\"$P(y = 1 | x_{test})\"])\n",
    "\n",
    "plt.subplot(212)\n",
    "plt.bar(model.classes_, model.predict_proba(x_test)[0])\n",
    "plt.xlim(-1,2)\n",
    "plt.gca().xaxis.grid(False)\n",
    "plt.xticks(model.classes_, [\"$P(y = 0 | x_{test})$\",\"$P(y = 1|x_{test})$\"])\n",
    "plt.title(\"Conditional probabillity distribution\")\n",
    "plt.tight_layout()\n",
    "plt.show()"
   ]
  },
  {
   "cell_type": "code",
   "execution_count": 4,
   "metadata": {},
   "outputs": [
    {
     "name": "stdout",
     "output_type": "stream",
     "text": [
      "C=1, 훈련 세트 점수: 0.955\n",
      "C=1, 테스트 세트 점수: 0.958\n",
      "C=100, 훈련 세트 점수: 0.972\n",
      "C=100, 테스트 세트 점수: 0.965\n",
      "C=0.01, 훈련 세트 점수: 0.934\n",
      "C=0.01, 테스트 세트 점수: 0.930\n"
     ]
    },
    {
     "name": "stderr",
     "output_type": "stream",
     "text": [
      "D:\\python\\Anaconda3\\lib\\site-packages\\sklearn\\linear_model\\logistic.py:432: FutureWarning: Default solver will be changed to 'lbfgs' in 0.22. Specify a solver to silence this warning.\n",
      "  FutureWarning)\n",
      "D:\\python\\Anaconda3\\lib\\site-packages\\sklearn\\linear_model\\logistic.py:432: FutureWarning: Default solver will be changed to 'lbfgs' in 0.22. Specify a solver to silence this warning.\n",
      "  FutureWarning)\n",
      "D:\\python\\Anaconda3\\lib\\site-packages\\sklearn\\linear_model\\logistic.py:432: FutureWarning: Default solver will be changed to 'lbfgs' in 0.22. Specify a solver to silence this warning.\n",
      "  FutureWarning)\n"
     ]
    }
   ],
   "source": [
    "# 3. 유방암 분류문제 (강의자료 9쪽)\n",
    "\n",
    "from sklearn.datasets import load_breast_cancer\n",
    "\n",
    "cancer=load_breast_cancer()\n",
    "\n",
    "X_train, X_test, y_train, y_test = train_test_split(\n",
    "    cancer.data, cancer.target, stratify = cancer.target,random_state = 42)\n",
    "\n",
    "logreg=LogisticRegression().fit(X_train, y_train)\n",
    "\n",
    "print(\"C=1, 훈련 세트 점수: {:.3f}\".format(logreg.score(X_train, y_train)))\n",
    "print(\"C=1, 테스트 세트 점수: {:.3f}\".format(logreg.score(X_test, y_test)))\n",
    "\n",
    "logreg100=LogisticRegression(C=100).fit(X_train, y_train)\n",
    "print(\"C=100, 훈련 세트 점수: {:.3f}\".format(logreg100.score(X_train, y_train)))\n",
    "print(\"C=100, 테스트 세트 점수: {:.3f}\".format(logreg100.score(X_test, y_test)))\n",
    "\n",
    "logreg001=LogisticRegression(C=0.01).fit(X_train, y_train)\n",
    "print(\"C=0.01, 훈련 세트 점수: {:.3f}\".format(logreg001.score(X_train, y_train)))\n",
    "print(\"C=0.01, 테스트 세트 점수: {:.3f}\".format(logreg001.score(X_test, y_test)))"
   ]
  },
  {
   "cell_type": "code",
   "execution_count": 5,
   "metadata": {},
   "outputs": [
    {
     "name": "stderr",
     "output_type": "stream",
     "text": [
      "D:\\python\\Anaconda3\\lib\\site-packages\\sklearn\\linear_model\\logistic.py:432: FutureWarning: Default solver will be changed to 'lbfgs' in 0.22. Specify a solver to silence this warning.\n",
      "  FutureWarning)\n"
     ]
    },
    {
     "data": {
      "image/png": "[encoded data removed]",
      "text/plain": [
       "<Figure size 432x288 with 1 Axes>"
      ]
     },
     "metadata": {
      "needs_background": "light"
     },
     "output_type": "display_data"
    }
   ],
   "source": [
    "# 4. Decidion boundary (2-class, 3-class) 예 (강의자료 11-12쪽)\n",
    "# 2-class 분류 알고리즘\n",
    "\n",
    "from sklearn.datasets.samples_generator import make_blobs\n",
    "from sklearn.datasets import make_classification\n",
    "\n",
    "X,y=make_classification(n_features=2, n_redundant=0,\n",
    "                         n_informative=1, n_clusters_per_class=1, random_state=4)\n",
    "\n",
    "fig, ax=plt.subplots(figsize=(6,4))\n",
    "ax.scatter(X[:,0], X[:,1], c=y, cmap='tab10')\n",
    "plt.title('2-class Decision boundary', fontsize=14)\n",
    "plt.xlabel('feature1')\n",
    "plt.ylabel('feature2')\n",
    "\n",
    "logreg=LogisticRegression().fit(X,y)\n",
    "\n",
    "line=np.linspace(-3,3)\n",
    "colors=['red']\n",
    "for coef, intercept, color in zip(logreg.coef_, logreg.intercept_, colors):\n",
    "    plt.plot(line, -(line * coef[0] + intercept) / coef[1], c=color)"
   ]
  },
  {
   "cell_type": "code",
   "execution_count": 6,
   "metadata": {},
   "outputs": [
    {
     "name": "stderr",
     "output_type": "stream",
     "text": [
      "D:\\python\\Anaconda3\\lib\\site-packages\\sklearn\\linear_model\\logistic.py:432: FutureWarning: Default solver will be changed to 'lbfgs' in 0.22. Specify a solver to silence this warning.\n",
      "  FutureWarning)\n",
      "D:\\python\\Anaconda3\\lib\\site-packages\\sklearn\\linear_model\\logistic.py:469: FutureWarning: Default multi_class will be changed to 'auto' in 0.22. Specify the multi_class option to silence this warning.\n",
      "  \"this warning.\", FutureWarning)\n"
     ]
    },
    {
     "data": {
      "image/png": "[encoded data removed]",
      "text/plain": [
       "<Figure size 432x288 with 1 Axes>"
      ]
     },
     "metadata": {
      "needs_background": "light"
     },
     "output_type": "display_data"
    }
   ],
   "source": [
    "# 3-class 분류 알고리즘\n",
    "\n",
    "X,y=make_blobs(n_samples=70, centers=3,\n",
    "                random_state=0, cluster_std=0.60)\n",
    "\n",
    "fig, ax=plt.subplots(figsize=(6,4))\n",
    "ax.scatter(X[:,0], X[:,1], c=y, cmap='Paired')\n",
    "plt.title('3 class Decision boundary', fontsize=14)\n",
    "plt.xlabel('feature1')\n",
    "plt.ylabel('feature2')\n",
    "\n",
    "logreg=LogisticRegression().fit(X,y)\n",
    "\n",
    "line=np.linspace(-3,3)\n",
    "colors=['red','blue']\n",
    "for coef, intercept, color in zip(logreg.coef_, logreg.intercept_, colors):\n",
    "    plt.plot(line, -(line * coef[0] + intercept) / coef[1], c=color)"
   ]
  }
 ],
 "metadata": {
  "kernelspec": {
   "display_name": "Python 3",
   "language": "python",
   "name": "python3"
  },
  "language_info": {
   "codemirror_mode": {
    "name": "ipython",
    "version": 3
   },
   "file_extension": ".py",
   "mimetype": "text/x-python",
   "name": "python",
   "nbconvert_exporter": "python",
   "pygments_lexer": "ipython3",
   "version": "3.7.3"
  }
 },
 "nbformat": 4,
 "nbformat_minor": 2
}
