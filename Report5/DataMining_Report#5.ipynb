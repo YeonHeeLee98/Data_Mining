{
 "cells": [
  {
   "cell_type": "markdown",
   "metadata": {},
   "source": [
    "## <문제>\n",
    "## 아래 문제를 해결하여 \"numpy_성명.ipynb\" 파일에 저장하여 제출하세요.\n",
    "\n",
    "\n",
    "1) datamining4_numpy.ipynb 를 학습하면서 이해안되는 부분에 대한 질문 3개이상 마크다운으로 만들기\n",
    "\n",
    "2) datamining4_numpy.ipynb 안에 제공되는 실습문제 1, 2, 3을 해결하기"
   ]
  },
  {
   "cell_type": "markdown",
   "metadata": {},
   "source": [
    "### 빅데이터전공 20175327 이연희"
   ]
  },
  {
   "cell_type": "markdown",
   "metadata": {},
   "source": [
    "## 실습문제 #1.  1차원 배열 생성, indexing, slicing, assign, operation 연습"
   ]
  },
  {
   "cell_type": "markdown",
   "metadata": {},
   "source": [
    "### (1) 1~25 사이의 2의 배수 12개로 1차원 배열(a) 생성, 출력"
   ]
  },
  {
   "cell_type": "code",
   "execution_count": 103,
   "metadata": {},
   "outputs": [
    {
     "name": "stdout",
     "output_type": "stream",
     "text": [
      "a = [ 2  4  6  8 10 12 14 16 18 20 22 24]\n"
     ]
    }
   ],
   "source": [
    "import numpy as np\n",
    "\n",
    "a=np.arange(2,25,2)\n",
    "print(\"a =\",a)"
   ]
  },
  {
   "cell_type": "markdown",
   "metadata": {},
   "source": [
    "### (2) a의 인덱스 2~5의 요소값을 -20으로 수정, 출력"
   ]
  },
  {
   "cell_type": "code",
   "execution_count": 105,
   "metadata": {},
   "outputs": [
    {
     "name": "stdout",
     "output_type": "stream",
     "text": [
      "a = [  2   4 -20 -20 -20  12  14  16  18  20  22  24]\n"
     ]
    }
   ],
   "source": [
    "a[2:5] = -20\n",
    "print(\"a =\",a)"
   ]
  },
  {
   "cell_type": "markdown",
   "metadata": {},
   "source": [
    "### (3) a의 끝에서 두번째부터 끝가지 요소값을 2배하여 저장, 출력 "
   ]
  },
  {
   "cell_type": "code",
   "execution_count": 123,
   "metadata": {},
   "outputs": [
    {
     "name": "stdout",
     "output_type": "stream",
     "text": [
      "aa = [44 48]\n"
     ]
    }
   ],
   "source": [
    "aa=a[-2:]*2\n",
    "\n",
    "print(\"aa =\",aa)"
   ]
  },
  {
   "cell_type": "markdown",
   "metadata": {},
   "source": [
    "### (4) 1~9사이 임의값 12개로  배열 b 생성, 출력"
   ]
  },
  {
   "cell_type": "code",
   "execution_count": 112,
   "metadata": {},
   "outputs": [
    {
     "name": "stdout",
     "output_type": "stream",
     "text": [
      "b = [4 5 0 6 3 5 7 3 8 5 3 9]\n"
     ]
    }
   ],
   "source": [
    "b=np.random.randint(10, size=12)\n",
    "print(\"b =\",b)"
   ]
  },
  {
   "cell_type": "markdown",
   "metadata": {},
   "source": [
    "### (5) b배열을 10배하여 c에 저장"
   ]
  },
  {
   "cell_type": "code",
   "execution_count": 113,
   "metadata": {},
   "outputs": [
    {
     "name": "stdout",
     "output_type": "stream",
     "text": [
      "c = [40 50  0 60 30 50 70 30 80 50 30 90]\n"
     ]
    }
   ],
   "source": [
    "c=b*10\n",
    "print(\"c =\",c)"
   ]
  },
  {
   "cell_type": "markdown",
   "metadata": {},
   "source": [
    "### (6) a배열과 b배열을 더하여 d 배열 생성"
   ]
  },
  {
   "cell_type": "code",
   "execution_count": 114,
   "metadata": {},
   "outputs": [
    {
     "name": "stdout",
     "output_type": "stream",
     "text": [
      "d = [  6   9 -20 -14 -17  17  21  19  26  25  25  33]\n"
     ]
    }
   ],
   "source": [
    "d=a+b\n",
    "print(\"d =\",d)"
   ]
  },
  {
   "cell_type": "markdown",
   "metadata": {},
   "source": [
    "### (7) b배열의 최대,최소,평균 출력"
   ]
  },
  {
   "cell_type": "code",
   "execution_count": 117,
   "metadata": {},
   "outputs": [
    {
     "name": "stdout",
     "output_type": "stream",
     "text": [
      "max =  9\n",
      "min =  0\n",
      "mean =  4.833333333333333\n"
     ]
    }
   ],
   "source": [
    "print(\"max = \", max(b))\n",
    "print(\"min = \", min(b))\n",
    "print(\"mean = \", b.mean())"
   ]
  },
  {
   "cell_type": "markdown",
   "metadata": {},
   "source": [
    "### (8) a에서 b배열의 평균보다 큰값을 추출 "
   ]
  },
  {
   "cell_type": "code",
   "execution_count": 135,
   "metadata": {},
   "outputs": [
    {
     "name": "stdout",
     "output_type": "stream",
     "text": [
      "[  2   4 -20 -20 -20  12  14  16  18  20  22  24]\n"
     ]
    }
   ],
   "source": [
    "print(a)"
   ]
  },
  {
   "cell_type": "code",
   "execution_count": 134,
   "metadata": {},
   "outputs": [
    {
     "name": "stdout",
     "output_type": "stream",
     "text": [
      "[12 14 16 18 20 22 24]\n"
     ]
    }
   ],
   "source": [
    "print(a[a>b.mean()])"
   ]
  },
  {
   "cell_type": "markdown",
   "metadata": {},
   "source": [
    "## 실습문제 #2. 2차원 배열 생성, reshape, resize, 연산 연습"
   ]
  },
  {
   "cell_type": "markdown",
   "metadata": {},
   "source": [
    "### (1) 1~25 사이의 2의 배수 12개로 1차원 배열(a) 생성, 출력"
   ]
  },
  {
   "cell_type": "code",
   "execution_count": 75,
   "metadata": {},
   "outputs": [
    {
     "name": "stdout",
     "output_type": "stream",
     "text": [
      "a = [ 2  4  6  8 10 12 14 16 18 20 22 24]\n"
     ]
    }
   ],
   "source": [
    "import numpy as np\n",
    "\n",
    "a=np.arange(2,25,2)\n",
    "print(\"a =\",a)"
   ]
  },
  {
   "cell_type": "markdown",
   "metadata": {},
   "source": [
    "### (2) a를 이용하여  3X4 배열로 변경하여 b생성, 출력"
   ]
  },
  {
   "cell_type": "code",
   "execution_count": 76,
   "metadata": {},
   "outputs": [
    {
     "name": "stdout",
     "output_type": "stream",
     "text": [
      "b =\n",
      " [[ 2  4  6  8]\n",
      " [10 12 14 16]\n",
      " [18 20 22 24]]\n"
     ]
    }
   ],
   "source": [
    "b = a.reshape(3,4)\n",
    "print(\"b =\\n\",b)"
   ]
  },
  {
   "cell_type": "markdown",
   "metadata": {},
   "source": [
    "### (3) a를  2X6 배열로 변경, 출력"
   ]
  },
  {
   "cell_type": "code",
   "execution_count": 77,
   "metadata": {},
   "outputs": [
    {
     "name": "stdout",
     "output_type": "stream",
     "text": [
      "c =\n",
      " [[ 2  4  6  8 10 12]\n",
      " [14 16 18 20 22 24]]\n"
     ]
    }
   ],
   "source": [
    "a = a.reshape(2,6)\n",
    "print(\"c =\\n\",a)"
   ]
  },
  {
   "cell_type": "markdown",
   "metadata": {},
   "source": [
    "### (4) a를  1행의 모든 값을  추출하여 a1을 만들고, a1의 모든 값을 0으로 변경, a1,a출력"
   ]
  },
  {
   "cell_type": "code",
   "execution_count": 78,
   "metadata": {},
   "outputs": [
    {
     "name": "stdout",
     "output_type": "stream",
     "text": [
      "a1 = [ 2  4  6  8 10 12]\n",
      "a1 = [0 0 0 0 0 0]\n"
     ]
    }
   ],
   "source": [
    "a1 = a[0]\n",
    "print(\"a1 =\",a1)\n",
    "a1[...] = 0\n",
    "print(\"a1 =\",a1)"
   ]
  },
  {
   "cell_type": "markdown",
   "metadata": {},
   "source": [
    "### (5) 1~10 사이의 임의의 값으로 3X3 배열 x, y생성, 출력"
   ]
  },
  {
   "cell_type": "code",
   "execution_count": 79,
   "metadata": {},
   "outputs": [
    {
     "name": "stdout",
     "output_type": "stream",
     "text": [
      "x = \n",
      " [[2. 6. 3.]\n",
      " [4. 7. 1.]\n",
      " [9. 2. 6.]] \n",
      "y = \n",
      " [[ 9.  1.  4.]\n",
      " [10.  1.  4.]\n",
      " [ 3.  8.  8.]]\n"
     ]
    }
   ],
   "source": [
    "x = np.round(10*(np.random.random((3,3))))\n",
    "y = np.round(10*(np.random.random((3,3))))\n",
    "print(\"x = \\n\",x,\"\\ny = \\n\",y)"
   ]
  },
  {
   "cell_type": "markdown",
   "metadata": {},
   "source": [
    "### (6) x의 1, 2 행의 모든 열추출, 출력"
   ]
  },
  {
   "cell_type": "code",
   "execution_count": 80,
   "metadata": {},
   "outputs": [
    {
     "name": "stdout",
     "output_type": "stream",
     "text": [
      "x의 1행 :  [4. 7. 1.]\n",
      "x의 2행 :  [9. 2. 6.]\n"
     ]
    }
   ],
   "source": [
    "print(\"x의 1행 : \",x[1])\n",
    "print(\"x의 2행 : \",x[2])"
   ]
  },
  {
   "cell_type": "markdown",
   "metadata": {},
   "source": [
    "### (7) x의 2열의 모든 행 추출, 출력"
   ]
  },
  {
   "cell_type": "code",
   "execution_count": 81,
   "metadata": {},
   "outputs": [
    {
     "name": "stdout",
     "output_type": "stream",
     "text": [
      "x의 2열 :  [3. 1. 6.]\n"
     ]
    }
   ],
   "source": [
    "print(\"x의 2열 : \",x[:,2])"
   ]
  },
  {
   "cell_type": "markdown",
   "metadata": {},
   "source": [
    "### (8) x의 0,2열의 1,2 행 추출, 출력"
   ]
  },
  {
   "cell_type": "code",
   "execution_count": 82,
   "metadata": {},
   "outputs": [
    {
     "name": "stdout",
     "output_type": "stream",
     "text": [
      "x의 0,2열의 1,2행 추출 :  [4. 9.]\n"
     ]
    }
   ],
   "source": [
    "print(\"x의 0,2열의 1,2행 추출 : \",x[1:,0])"
   ]
  },
  {
   "cell_type": "markdown",
   "metadata": {},
   "source": [
    "### (9) x의 각행의 합, 각 열의 합, 출력"
   ]
  },
  {
   "cell_type": "code",
   "execution_count": 83,
   "metadata": {},
   "outputs": [
    {
     "name": "stdout",
     "output_type": "stream",
     "text": [
      "x의 각 행의 합\n",
      "0 행 :  11.0\n",
      "1 행 :  12.0\n",
      "2 행 :  17.0\n"
     ]
    }
   ],
   "source": [
    "print(\"x의 각 행의 합\")\n",
    "print(\"0 행 : \",np.sum(x[0]))\n",
    "print(\"1 행 : \",np.sum(x[1]))\n",
    "print(\"2 행 : \",np.sum(x[2]))"
   ]
  },
  {
   "cell_type": "code",
   "execution_count": 84,
   "metadata": {},
   "outputs": [
    {
     "name": "stdout",
     "output_type": "stream",
     "text": [
      "x의 각 열의 합\n",
      "0 열 :  15.0\n",
      "1 열 :  15.0\n",
      "2 열 :  10.0\n"
     ]
    }
   ],
   "source": [
    "print(\"x의 각 열의 합\")\n",
    "print(\"0 열 : \",np.sum(x[:,0]))\n",
    "print(\"1 열 : \",np.sum(x[:,1]))\n",
    "print(\"2 열 : \",np.sum(x[:,2]))"
   ]
  },
  {
   "cell_type": "markdown",
   "metadata": {},
   "source": [
    "### (10) x의 각행의 최대, 각 열의 최대, 출력"
   ]
  },
  {
   "cell_type": "code",
   "execution_count": 85,
   "metadata": {},
   "outputs": [
    {
     "name": "stdout",
     "output_type": "stream",
     "text": [
      "x의 각행의 최대값, 각 열의 최대값, 출력\n",
      "0 행 :  6.0\n",
      "1 행 :  7.0\n",
      "2 행 :  9.0\n",
      "0 열 :  9.0\n",
      "1 열 :  7.0\n",
      "2 열 :  6.0\n"
     ]
    }
   ],
   "source": [
    "print(\"x의 각행의 최대값, 각 열의 최대값, 출력\")\n",
    "print(\"0 행 : \",np.max(x[0]))\n",
    "print(\"1 행 : \",np.max(x[1]))\n",
    "print(\"2 행 : \",np.max(x[2]))\n",
    "print(\"0 열 : \",np.max(x[:,0]))\n",
    "print(\"1 열 : \",np.max(x[:,1]))\n",
    "print(\"2 열 : \",np.max(x[:,2]))"
   ]
  },
  {
   "cell_type": "markdown",
   "metadata": {},
   "source": [
    "### (11) x와 y의 합 결과 출력"
   ]
  },
  {
   "cell_type": "code",
   "execution_count": 86,
   "metadata": {},
   "outputs": [
    {
     "name": "stdout",
     "output_type": "stream",
     "text": [
      "합 : \n",
      " [[11.  7.  7.]\n",
      " [14.  8.  5.]\n",
      " [12. 10. 14.]]\n"
     ]
    }
   ],
   "source": [
    "mat_sum = x + y\n",
    "mat_mul = x * y\n",
    "mat_inner = np.matmul(x,y)\n",
    "\n",
    "print(\"합 : \\n\",mat_sum)"
   ]
  },
  {
   "cell_type": "markdown",
   "metadata": {},
   "source": [
    "### (12) X를 1차원으로 변경하여 x1 생성"
   ]
  },
  {
   "cell_type": "code",
   "execution_count": 130,
   "metadata": {},
   "outputs": [
    {
     "name": "stdout",
     "output_type": "stream",
     "text": [
      "[[2. 6. 3.]\n",
      " [4. 7. 1.]\n",
      " [9. 2. 6.]]\n",
      "2.0 6.0 3.0 4.0 7.0 1.0 9.0 2.0 6.0 "
     ]
    }
   ],
   "source": [
    "print(x)\n",
    "\n",
    "x1 =x.ravel()\n",
    "for e in x1:\n",
    "    print(e, end=\" \")"
   ]
  },
  {
   "cell_type": "markdown",
   "metadata": {},
   "source": [
    "## 실습문제 # 3. 배열복사, 결합 연습"
   ]
  },
  {
   "cell_type": "markdown",
   "metadata": {},
   "source": [
    "### (1) 1-3, 10-30, 100-300 3개의 1차원 배열(a1,a2,a3)을 생성하여 행으로 결합된 y배열 생성"
   ]
  },
  {
   "cell_type": "code",
   "execution_count": 98,
   "metadata": {},
   "outputs": [
    {
     "name": "stdout",
     "output_type": "stream",
     "text": [
      "[[  1   2   3]\n",
      " [ 10  20  30]\n",
      " [100 200 300]]\n"
     ]
    }
   ],
   "source": [
    "a1 = np.arange(1,4)\n",
    "a2 = np.arange(10,40,10)\n",
    "a3 = np.arange(100,400,100)\n",
    "\n",
    "y = np.vstack([a1,a2,a3])\n",
    "print(y)"
   ]
  },
  {
   "cell_type": "markdown",
   "metadata": {},
   "source": [
    "### (2) y배열의 0,2 열을 복사하여 y1, 1열을 복사하여 y2 생성"
   ]
  },
  {
   "cell_type": "code",
   "execution_count": 100,
   "metadata": {},
   "outputs": [
    {
     "name": "stdout",
     "output_type": "stream",
     "text": [
      "Y1:\n",
      " [[  1   3]\n",
      " [ 10  30]\n",
      " [100 300]]\n",
      "\n",
      "Y2:\n",
      " [[  2]\n",
      " [ 20]\n",
      " [200]]\n"
     ]
    }
   ],
   "source": [
    "y1 = np.vstack([y[:,0],y[:,2]])\n",
    "y1 = y1.T\n",
    "print(\"Y1:\\n\",y1)\n",
    "\n",
    "y2 = y[:,1].reshape(3,1)\n",
    "print(\"\\nY2:\\n\",y2)"
   ]
  },
  {
   "cell_type": "markdown",
   "metadata": {},
   "source": [
    "### (3) y1, y2를 결합하여 yy배열 생성"
   ]
  },
  {
   "cell_type": "code",
   "execution_count": 101,
   "metadata": {},
   "outputs": [
    {
     "name": "stdout",
     "output_type": "stream",
     "text": [
      "YY:\n",
      " [[  1   3   2]\n",
      " [ 10  30  20]\n",
      " [100 300 200]]\n"
     ]
    }
   ],
   "source": [
    "yy = np.vstack([y1.T,y2.T])\n",
    "yy = yy.T\n",
    "print(\"YY:\\n\",yy)"
   ]
  }
 ],
 "metadata": {
  "kernelspec": {
   "display_name": "Python 3",
   "language": "python",
   "name": "python3"
  },
  "language_info": {
   "codemirror_mode": {
    "name": "ipython",
    "version": 3
   },
   "file_extension": ".py",
   "mimetype": "text/x-python",
   "name": "python",
   "nbconvert_exporter": "python",
   "pygments_lexer": "ipython3",
   "version": "3.7.3"
  }
 },
 "nbformat": 4,
 "nbformat_minor": 2
}
