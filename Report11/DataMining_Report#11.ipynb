{
 "cells": [
  {
   "cell_type": "markdown",
   "metadata": {},
   "source": [
    "## 온라인 학습활동 과제 11. Machine Learning"
   ]
  },
  {
   "cell_type": "markdown",
   "metadata": {},
   "source": [
    "### 빅데이터전공 20175327 이연희"
   ]
  },
  {
   "cell_type": "markdown",
   "metadata": {},
   "source": [
    "### 1. 지도 학습?(Supervised Learning)과 비 지도 학습(Unsupervised Learning)을 비교하여 설명하세요."
   ]
  },
  {
   "cell_type": "markdown",
   "metadata": {},
   "source": [
    "- **지도 학습(Supervised Learning)** \n",
    "    - 지도 학습은 훈련 데이터(Training Data)로부터 하나의 함수를 유추해내기 위한 기계 학습(Machine Learning)의 방법 중 하나이다.  \n",
    "    - 입력값(x)과 정답(label)을 포함하는 훈련데이터를 이용하여 학습하고, 그 학습된 결과를 바탕으로 하나의 함수(model)을 통해 데이터에 대한 레이블(Label,명시적인 정답)이 주어진 상태에서 컴퓨터를 학습시키는 방법이다.  \n",
    "    - 학습은 '(데이터(data), 레이블(label))'의 형태로 진행되며 대부분의 머신러닝 문제가 지도 학습에 해당된다.  \n",
    "    - 지도 학습은 분류(Classification)와 회기(Regresssion)로 나누어진다. \n",
    "        - 분류(Classification)\n",
    "            - 주어진 데이터를 정해진 카테고리에 따라 분류하는 문제\n",
    "            - 알고리즘: 선형회귀(Linear Regression)  \n",
    "        - 회기(Regresssion)\n",
    "            - 어떤 데이터들의 특징(Feature)을 기준으로 연속된 값을 예측하는 문제\n",
    "            - 알고리즘: 최근접이웃(Nearest Neighbors), 로지스틱회귀(LogisticRegression), 나이브베이시안(Naive Bayes Classification), 결정트리(decision tree), 랜덤포레스트(Random Forest), 신경망(neural network), 서포트벡터머신(SVM)\n",
    "       \n",
    "    \n",
    "    이때 분류는 주어진 데이터를 정해진 카테고리에 따라 분류하는 문제를 말하며 회기는 어떤 데이터들의 특징(Feature)을 기준으로 연속된 값을 예측하는 문제를 말한다.\n",
    "    \n",
    "  \n",
    "  \n",
    "- **비지도 학습(Unsupervised Learning)**\n",
    "    - 비지도 학습은 지도 학습과는 달리 정답(label)이 주어지지 않고 비슷한 데이터들을 군집화 하여 예측해나가는 기계 학습(Machine Learning)의 방법 중 하나이다.  \n",
    "    -  훈련 데이터에 대한 정답이 없고 입력 데이터(Input Data)만 있기 때문에, 데이터에 대한 레이블(Label,명시적인 정답)이 주어지지 상태에서 입력 데이터의 패턴, 특성등을 학습을 통해 컴퓨터를 학습시키는 방법이다.  \n",
    "    - 비지도 학습은 데이터의 숨겨진 특징(Hidden Feature)이나 구조를 발견하는데 주로 사용되며 지도학습에서 적절한 특징을 찾아내기 위한 전처리 방법으로 사용되기도 한다.  \n",
    "    - 비지도 학습에는 군집(clustering), 차원 축소 (dimensionality reduction), 연관규칙(Association Rule)가 있다.  \n",
    "    \n",
    "<img src=\"https://file.mk.co.kr/meet/neds/2017/08/image__2017_549557_15029372672994556.jpg\">\n",
    "      "
   ]
  },
  {
   "cell_type": "markdown",
   "metadata": {},
   "source": [
    "### 2. 과적합(Overfitting)을 설명하세요."
   ]
  },
  {
   "cell_type": "markdown",
   "metadata": {},
   "source": [
    "- 과적합이란 기계 학습(machine learning)에서 훈련 데이터(Training Data)를 과하게 학습(overfitting)하는 것을 뜻한다.  \n",
    "- 모델에 훈련 데이터를 과하게 학습을 시키면, 모델은 훈련 데이터에 대해 좋은 성능을 나타낸다. 이는 훈련에 있어서 오차나 MSE(Mean squared error)가 줄어들 수 있겠지만 훈련 데이터가 아닌 새로운 데이터에 대해서는 좋지 않은 성능을 나타내며 오히려 오차나 MSE가 커지게 된다. \n",
    "- 즉, 훈련 데이터에 대해 최적화된 경우, 훈련 데이터에서는 거의 완벽한 결과를 보이지만 새로운 데이터에서는 정확도가 떨어지게 된다.\n",
    "\n",
    "<img src=\"https://img1.daumcdn.net/thumb/R1280x0/?scode=mtistory2&fname=http%3A%2F%2Fcfile24.uf.tistory.com%2Fimage%2F216C294D572DE7E9044689\">\n",
    "\n",
    "- 위 그래프처럼 훈련 데이터에 대해서는 오차가 감소하지만, 실제 데이터에 대해서는 오차가 증가하는 지점이 존재할 수 있다. \n",
    "- 이러한 관점에서 본다면 과적합은 훈련 데이터에 대해 과하게 학습하여 실제 데이터에 대한 오차가 증가하는 현상이라고 볼 수 있다.\n",
    "\n",
    "\n",
    "\n",
    "- 과적합 발생 이유\n",
    "    1. 잘못된 훈련 데이터를 사용하는 경우\n",
    "    2. 훈련 데이터가 전체 데이터에 비해 매우 적거나 입력 변수가 아주 많은 경우\n",
    "    3. 모델이 과도하게 복잡한 경우  \n",
    "    \n",
    "    \n",
    "    \n",
    "- 과적합 해결 방안\n",
    "    1. 가장 기본적인 방법으로 훈련 데이터를 더 많이 수집한다.\n",
    "    2. 특징(Feature)의 개수를 줄인다.\n",
    "    3. 정규화(Regularization)을 수행한다."
   ]
  },
  {
   "cell_type": "markdown",
   "metadata": {},
   "source": [
    "### 3. 특징공간(feature space)에 대하여 설명하세요."
   ]
  },
  {
   "cell_type": "markdown",
   "metadata": {},
   "source": [
    "- 특징 공간이란 쉽게 설명해서 관측 값들이 있는 공간을 말한다. 이 특징 공간은 여러 차원으로 구성이 될 수 있다. 예를 들어, 특징 변수가 하나인 훈련 데이터는 1차원 특징 공간을 가진다.\n",
    "- 내가 가진 데이터를 그래프로 표현하기 위한 축의 개수가 내가 가진 데이터 공간의 차원으로 표현할 수 있다. (축의 개수 = 변수의 수 = 차원)\n",
    "- 즉, 변수의 수가 늘어남 = 차원의 늘어남 = 데이터 공간이 커짐 으로 표현할 수 있다.\n",
    " \n",
    "<img src=\"http://postfiles9.naver.net/MjAxODA3MjBfOTYg/MDAxNTMyMDU5MjQ4MjYy.SifKXkI1MYiHlpvCO0NeOgqAMtJD_KZq0CniB__-Sx4g.F8J_uLhAr7jaISTNiWjduu3BwsiPMgJFenczBkqHhzkg.PNG.qbxlvnf11/20180720_130010.png?type=w773\">  \n",
    "\n",
    "\n",
    "\n",
    "\n",
    "<img src=\"data:image/png;base64,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\">\n"
   ]
  },
  {
   "cell_type": "markdown",
   "metadata": {},
   "source": [
    "### 참고 문헌 및 사이트"
   ]
  },
  {
   "cell_type": "markdown",
   "metadata": {},
   "source": [
    "- [수업자료] 데이터마이닝 수업자료(8_machineLearnig.pdf)\n",
    "- [문헌] 핸즈온 머신러닝, 한빛미디어\n",
    "- [사이트] [위키백과 \"지도학습\"](https://ko.wikipedia.org/wiki/%EC%A7%80%EB%8F%84_%ED%95%99%EC%8A%B5).\n",
    "- [사이트] [위키백과 \"비지도 학습\"](https://ko.wikipedia.org/wiki/%EB%B9%84%EC%A7%80%EB%8F%84_%ED%95%99%EC%8A%B5).\n"
   ]
  }
 ],
 "metadata": {
  "kernelspec": {
   "display_name": "Python 3",
   "language": "python",
   "name": "python3"
  },
  "language_info": {
   "codemirror_mode": {
    "name": "ipython",
    "version": 3
   },
   "file_extension": ".py",
   "mimetype": "text/x-python",
   "name": "python",
   "nbconvert_exporter": "python",
   "pygments_lexer": "ipython3",
   "version": "3.7.3"
  }
 },
 "nbformat": 4,
 "nbformat_minor": 4
}
