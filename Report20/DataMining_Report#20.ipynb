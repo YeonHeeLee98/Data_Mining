{
 "cells": [
  {
   "cell_type": "markdown",
   "metadata": {},
   "source": [
    "## 온라인 학습활동 과제 20. Neural Network 기초 연습"
   ]
  },
  {
   "cell_type": "markdown",
   "metadata": {},
   "source": [
    "### 20175327 이연희"
   ]
  },
  {
   "cell_type": "markdown",
   "metadata": {},
   "source": [
    "1. 아래 3가지 activation function을 정의하여 그래프 그리기 (강의자료 7쪽)"
   ]
  },
  {
   "cell_type": "code",
   "execution_count": 1,
   "metadata": {},
   "outputs": [],
   "source": [
    "import math as math\n",
    "import numpy as np\n",
    "from matplotlib import pyplot as plt"
   ]
  },
  {
   "cell_type": "code",
   "execution_count": 17,
   "metadata": {},
   "outputs": [
    {
     "data": {
      "text/plain": [
       "[<matplotlib.lines.Line2D at 0x1c8c7db8978>]"
      ]
     },
     "execution_count": 17,
     "metadata": {},
     "output_type": "execute_result"
    },
    {
     "data": {
      "image/png": "[encoded data removed]",
      "text/plain": [
       "<Figure size 432x288 with 1 Axes>"
      ]
     },
     "metadata": {
      "needs_background": "light"
     },
     "output_type": "display_data"
    }
   ],
   "source": [
    "# (1)step : x <= 0, 0 x < 0, 1\n",
    "def step(x):\n",
    "    if x<0:\n",
    "        return 0\n",
    "    elif x==0:\n",
    "        return 0.5\n",
    "    elif x>0:\n",
    "        return 1\n",
    "\n",
    "x=np.linspace(-5,5,1000)\n",
    "y=[]\n",
    "for i in x:\n",
    "    y.append(step(i))\n",
    "plt.plot(x,y)"
   ]
  },
  {
   "cell_type": "code",
   "execution_count": 13,
   "metadata": {},
   "outputs": [
    {
     "data": {
      "image/png": "[encoded data removed]",
      "text/plain": [
       "<Figure size 432x288 with 1 Axes>"
      ]
     },
     "metadata": {
      "needs_background": "light"
     },
     "output_type": "display_data"
    }
   ],
   "source": [
    "# (2)logistic(sigmoid) : 1/(1+exp(-x))\n",
    "def sigmoid(x):\n",
    "    return 1/(1+np.exp(-x))\n",
    " \n",
    "x=np.arange(-5,5,0.1)\n",
    "y=sigmoid(x)\n",
    "\n",
    "plt.plot(x,y)\n",
    "plt.show()"
   ]
  },
  {
   "cell_type": "code",
   "execution_count": 18,
   "metadata": {},
   "outputs": [
    {
     "data": {
      "image/png": "[encoded data removed]",
      "text/plain": [
       "<Figure size 432x288 with 1 Axes>"
      ]
     },
     "metadata": {
      "needs_background": "light"
     },
     "output_type": "display_data"
    }
   ],
   "source": [
    "# (3)ReLU : maximum(0, x)\n",
    "def ReLU(x):\n",
    "    return np.maximum(0,x)\n",
    "\n",
    "x=np.arange(-5,5,0.1)\n",
    "y=ReLU(x)\n",
    "plt.plot(x,y)\n",
    "plt.show()"
   ]
  },
  {
   "cell_type": "markdown",
   "metadata": {},
   "source": [
    "2. AND, NAND, OR, XOR 연산을 위한 단층, 다층 퍼셉트론 프로그램 작성 (강의자료 9,10, 12,13쪽)"
   ]
  },
  {
   "cell_type": "code",
   "execution_count": 11,
   "metadata": {},
   "outputs": [],
   "source": [
    "# AND연산\n",
    "def AND_(x1,x2):\n",
    "    b=-1.5\n",
    "    w1,w2=1.0,1.0\n",
    "    \n",
    "    tmp=x1*w1+x2*w2+b\n",
    "    if tmp>0:\n",
    "        return 1\n",
    "    else:\n",
    "        return 0\n",
    "    \n",
    "# NAND연산\n",
    "def NAND_(x1,x2):\n",
    "    b=1.5\n",
    "    w1,w2=-1.0,-1.0\n",
    "    \n",
    "    tmp=x1*w1+x2*w2+b\n",
    "    if tmp>0:\n",
    "        return 1\n",
    "    else:\n",
    "        return 0\n",
    "    \n",
    "# OR연산\n",
    "def OR_(x1,x2):\n",
    "    b=-0.5\n",
    "    w1,w2=1.0,1.0\n",
    "\n",
    "    tmp=x1*w1+x2*w2+b\n",
    "    if tmp>0:\n",
    "        return 1\n",
    "    else:\n",
    "        return 0\n",
    "    \n",
    "# XOR연산\n",
    "def XOR_(x1,x2):\n",
    "    s1=NAND_(x1,x2)\n",
    "    s2=OR_(x1,x2)\n",
    "    y=AND_(s1,s2)\n",
    "    return y"
   ]
  },
  {
   "cell_type": "code",
   "execution_count": 9,
   "metadata": {},
   "outputs": [
    {
     "name": "stdout",
     "output_type": "stream",
     "text": [
      "AND\n",
      "(0,0) → 0\n",
      "(1,0) → 0\n",
      "(0,1) → 0\n",
      "(1,1) → 1\n",
      "OR\n",
      "(0,0) → 0\n",
      "(1,0) → 1\n",
      "(0,1) → 1\n",
      "(1,1) → 1\n",
      "NAND\n",
      "(0,0) → 1\n",
      "(1,0) → 1\n",
      "(0,1) → 1\n",
      "(1,1) → 0\n",
      "XOR\n",
      "(0,0) → 0\n",
      "(1,0) → 1\n",
      "(0,1) → 1\n",
      "(1,1) → 0\n"
     ]
    }
   ],
   "source": [
    "inputs=[(0,0),(1,0),(0,1),(1,1)]\n",
    "\n",
    "print(\"AND\")\n",
    "for x1, x2 in inputs:\n",
    "    y=AND_(x1, x2)\n",
    "    print('({x1},{x2}) → {y}'.format(x1=x1, x2=x2, y=y))\n",
    "print(\"OR\")\n",
    "for x1, x2 in inputs:\n",
    "    y=OR_(x1, x2)\n",
    "    print('({x1},{x2}) → {y}'.format(x1=x1, x2=x2, y=y))\n",
    "print(\"NAND\")\n",
    "for x1, x2 in inputs:\n",
    "    y=NAND_(x1, x2)\n",
    "    print('({x1},{x2}) → {y}'.format(x1=x1, x2=x2, y=y))\n",
    "print(\"XOR\")\n",
    "for x1, x2 in inputs:\n",
    "    y=XOR_(x1, x2)\n",
    "    print('({x1},{x2}) → {y}'.format(x1=x1, x2=x2, y=y))"
   ]
  }
 ],
 "metadata": {
  "kernelspec": {
   "display_name": "Python 3",
   "language": "python",
   "name": "python3"
  },
  "language_info": {
   "codemirror_mode": {
    "name": "ipython",
    "version": 3
   },
   "file_extension": ".py",
   "mimetype": "text/x-python",
   "name": "python",
   "nbconvert_exporter": "python",
   "pygments_lexer": "ipython3",
   "version": "3.6.8"
  }
 },
 "nbformat": 4,
 "nbformat_minor": 4
}
