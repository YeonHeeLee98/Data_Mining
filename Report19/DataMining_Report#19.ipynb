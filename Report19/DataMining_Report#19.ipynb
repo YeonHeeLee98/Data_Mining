{
 "cells": [
  {
   "cell_type": "code",
   "execution_count": 8,
   "metadata": {},
   "outputs": [],
   "source": [
    "import numpy as np\n",
    "import matplotlib.pyplot as plt\n",
    "from sklearn.datasets import load_breast_cancer\n",
    "from sklearn.linear_model import LogisticRegression\n",
    "from sklearn.model_selection import train_test_split\n",
    "from sklearn.metrics import confusion_matrix\n",
    "from sklearn.metrics import ConfusionMatrixDisplay"
   ]
  },
  {
   "cell_type": "code",
   "execution_count": 9,
   "metadata": {},
   "outputs": [
    {
     "name": "stdout",
     "output_type": "stream",
     "text": [
      "Confusion matrix\n",
      "[[51  2]\n",
      " [ 6 84]]\n"
     ]
    },
    {
     "name": "stderr",
     "output_type": "stream",
     "text": [
      "C:\\pyana\\lib\\site-packages\\sklearn\\linear_model\\_logistic.py:764: ConvergenceWarning: lbfgs failed to converge (status=1):\n",
      "STOP: TOTAL NO. of ITERATIONS REACHED LIMIT.\n",
      "\n",
      "Increase the number of iterations (max_iter) or scale the data as shown in:\n",
      "    https://scikit-learn.org/stable/modules/preprocessing.html\n",
      "Please also refer to the documentation for alternative solver options:\n",
      "    https://scikit-learn.org/stable/modules/linear_model.html#logistic-regression\n",
      "  extra_warning_msg=_LOGISTIC_SOLVER_CONVERGENCE_MSG)\n"
     ]
    }
   ],
   "source": [
    "#  1)confusion_matrix 값\n",
    "breast_cancer = load_breast_cancer()\n",
    "x = breast_cancer.data\n",
    "y = breast_cancer.target\n",
    "names = breast_cancer.target_names\n",
    "\n",
    "x_train, x_test, y_train, y_test = train_test_split(x,y,random_state = 0)\n",
    "\n",
    "logreg = LogisticRegression()\n",
    "y_pred = logreg.fit(x_train, y_train).predict(x_test)\n",
    "\n",
    "cm = confusion_matrix(y_test, y_pred)\n",
    "print('Confusion matrix')\n",
    "print(cm)"
   ]
  },
  {
   "cell_type": "code",
   "execution_count": 10,
   "metadata": {},
   "outputs": [
    {
     "name": "stdout",
     "output_type": "stream",
     "text": [
      "class_names= ['malignant' 'benign']\n"
     ]
    },
    {
     "data": {
      "image/png": "[encoded data removed]",
      "text/plain": [
       "<Figure size 432x288 with 2 Axes>"
      ]
     },
     "metadata": {
      "needs_background": "light"
     },
     "output_type": "display_data"
    }
   ],
   "source": [
    "# 2)ConfusionMatrixDisplay (class 명 포함)\n",
    "\n",
    "class_names = breast_cancer.target_names\n",
    "print(\"class_names=\",class_names)\n",
    "\n",
    "cm_display=ConfusionMatrixDisplay(cm,display_labels=class_names).plot()"
   ]
  },
  {
   "cell_type": "code",
   "execution_count": 11,
   "metadata": {},
   "outputs": [
    {
     "name": "stdout",
     "output_type": "stream",
     "text": [
      "테스트 세트 점수: 0.944\n"
     ]
    },
    {
     "name": "stderr",
     "output_type": "stream",
     "text": [
      "C:\\pyana\\lib\\site-packages\\sklearn\\linear_model\\_logistic.py:764: ConvergenceWarning: lbfgs failed to converge (status=1):\n",
      "STOP: TOTAL NO. of ITERATIONS REACHED LIMIT.\n",
      "\n",
      "Increase the number of iterations (max_iter) or scale the data as shown in:\n",
      "    https://scikit-learn.org/stable/modules/preprocessing.html\n",
      "Please also refer to the documentation for alternative solver options:\n",
      "    https://scikit-learn.org/stable/modules/linear_model.html#logistic-regression\n",
      "  extra_warning_msg=_LOGISTIC_SOLVER_CONVERGENCE_MSG)\n"
     ]
    }
   ],
   "source": [
    "# 3)테스트 집합에 대한 성능 확인 (classifier score)\n",
    "X_train,X_test,y_train,y_test = train_test_split(x,y,random_state=0)\n",
    "\n",
    "model=LogisticRegression().fit(X_train,y_train)\n",
    "\n",
    "print(\"테스트 세트 점수: {:.3f}\".format(model.score(X_test,y_test)))"
   ]
  },
  {
   "cell_type": "code",
   "execution_count": 12,
   "metadata": {},
   "outputs": [
    {
     "name": "stdout",
     "output_type": "stream",
     "text": [
      "(1)True Positive (TP)= 51\n",
      "(2)False Positive (FP)= 2\n",
      "(3)False Negative (FN)= 6\n",
      "(4)True Negative (TN)= 84\n",
      "(5)Accuracy = 0.944\n",
      "(6)Precision(Positive Predictive Value, PPV) = 0.962\n",
      "(7)Recall(sensitivity) = 0.895\n",
      "(7)Fall-Out(False Positive Rate, FPR) = 0.023\n",
      "(9)Specificity = 0.977\n"
     ]
    }
   ],
   "source": [
    "# 4)confusion_matrix 를 이용한 아래의 평가점수 확인\n",
    "TP = cm[0,0]\n",
    "TN = cm[1,1]\n",
    "FP = cm[0,1]\n",
    "FN = cm[1,0]\n",
    "\n",
    "Accuracy = (TP+TN)/(TP + TN + FP + FN)\n",
    "Precision = TP/(TP + FP)\n",
    "Recall = TP/(TP+FN)\n",
    "Fallout = FP/(FP + TN)\n",
    "Specificity = 1-Fallout\n",
    "\n",
    "print(\"(1)True Positive (TP)=\",TP)\n",
    "print(\"(2)False Positive (FP)=\",FP)\n",
    "print(\"(3)False Negative (FN)=\",FN)\n",
    "print(\"(4)True Negative (TN)=\",TN)\n",
    "print('(5)Accuracy = {:.3f}'.format(Accuracy))\n",
    "print(\"(6)Precision(Positive Predictive Value, PPV) = {:.3f}\".format(Precision))\n",
    "print(\"(7)Recall(sensitivity) = {:.3f}\".format(Recall))\n",
    "print(\"(7)Fall-Out(False Positive Rate, FPR) = {:.3f}\".format(Fallout))\n",
    "print('(9)Specificity = {:.3f}'.format(Specificity))"
   ]
  }
 ],
 "metadata": {
  "kernelspec": {
   "display_name": "Python 3",
   "language": "python",
   "name": "python3"
  },
  "language_info": {
   "codemirror_mode": {
    "name": "ipython",
    "version": 3
   },
   "file_extension": ".py",
   "mimetype": "text/x-python",
   "name": "python",
   "nbconvert_exporter": "python",
   "pygments_lexer": "ipython3",
   "version": "3.7.3"
  }
 },
 "nbformat": 4,
 "nbformat_minor": 2
}
